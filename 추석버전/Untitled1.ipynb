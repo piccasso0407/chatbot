{
 "cells": [
  {
   "cell_type": "code",
   "execution_count": 5,
   "id": "b0c0aadc-8c04-40fa-9783-6cec2ef7bd77",
   "metadata": {},
   "outputs": [
    {
     "name": "stderr",
     "output_type": "stream",
     "text": [
      "USER_AGENT environment variable not set, consider setting it to identify your requests.\n"
     ]
    }
   ],
   "source": [
    "from langchain_community.document_loaders import WebBaseLoader\n",
    "from langchain_community.vectorstores import Chroma\n",
    "from langchain_core.output_parsers import StrOutputParser\n",
    "from langchain_core.runnables import RunnablePassthrough\n",
    "from langchain_text_splitters import RecursiveCharacterTextSplitter\n",
    "from langchain_community.chat_models import ChatOllama\n",
    "from langchain.prompts import ChatPromptTemplate\n",
    "from pprint import pprint\n",
    "import streamlit as st\n",
    "from PyPDF2 import PdfReader\n",
    "import streamlit as st\n",
    "from loguru import logger\n",
    "import pandas as pd\n",
    "from langchain.chains import ConversationalRetrievalChain\n",
    "from langchain.document_loaders import PyPDFLoader, Docx2txtLoader, UnstructuredPowerPointLoader\n",
    "from langchain.text_splitter import RecursiveCharacterTextSplitter\n",
    "from langchain.embeddings import HuggingFaceEmbeddings\n",
    "from langchain.memory import ConversationBufferMemory\n",
    "from langchain.vectorstores import FAISS\n",
    "from langchain.memory import StreamlitChatMessageHistory\n",
    "from langchain.callbacks.streaming_stdout import StreamingStdOutCallbackHandler\n",
    "from langchain_openai import ChatOpenAI\n",
    "import tiktoken\n",
    "from loguru import logger\n",
    "import time\n",
    "import concurrent.futures\n",
    "import pandas as pd\n",
    "import json\n",
    "import os\n",
    "from transformers import AutoTokenizer\n",
    "from langchain.chains import ConversationalRetrievalChain\n",
    "from langchain.document_loaders import PyPDFLoader, Docx2txtLoader, UnstructuredPowerPointLoader\n",
    "from langchain.text_splitter import RecursiveCharacterTextSplitter\n",
    "from langchain.embeddings import HuggingFaceEmbeddings\n",
    "from langchain.memory import ConversationBufferMemory\n",
    "from langchain.vectorstores import FAISS\n",
    "from langchain.memory import StreamlitChatMessageHistory\n",
    "from langchain.callbacks.streaming_stdout import StreamingStdOutCallbackHandler\n",
    "from langchain_openai import ChatOpenAI\n",
    "from langchain.text_splitter import RecursiveCharacterTextSplitter\n",
    "import ragas\n",
    "import streamlit as st\n",
    "import PyPDF2\n",
    "import docx  # For reading DOCX files\n",
    "from langchain.text_splitter import RecursiveCharacterTextSplitter\n",
    "from langchain.embeddings import HuggingFaceEmbeddings\n",
    "from langchain.vectorstores import FAISS\n",
    "from langchain.chains import ConversationalRetrievalChain\n",
    "from langchain_openai import ChatOpenAI\n",
    "from langchain.schema import Document\n",
    "from string import Template\n",
    "import re\n",
    "import os\n",
    "import time\n",
    "from langchain.prompts import ChatPromptTemplate\n",
    "from langchain.vectorstores import FAISS\n",
    "\n",
    "# PDF 파일 읽기 함수\n",
    "def read_pdf(file_path):\n",
    "    pdf_text = []\n",
    "    with open(file_path, 'rb') as file:\n",
    "        reader = PyPDF2.PdfReader(file)\n",
    "        for page_num in range(len(reader.pages)):\n",
    "            page = reader.pages[page_num]\n",
    "            pdf_text.append(page.extract_text())\n",
    "    return pdf_text\n",
    "\n",
    "# DOCX 파일 읽기 함수\n",
    "def read_docx(file_path):\n",
    "    doc = docx.Document(file_path)\n",
    "    full_text = []\n",
    "    for para in doc.paragraphs:\n",
    "        full_text.append(para.text)\n",
    "    return '\\n'.join(full_text)\n",
    "\n",
    "pdf_file_path = \"./02-우리_몸이_원하는_삼삼한밥상_Ⅸ_본문(화면용_펼침).pdf\"\n",
    "# docx_file_path = \"./data/recipes.docx\"\n",
    "# pdf_file_path2 = \"./1.pdf\"\n",
    "\n",
    "# PDF 및 DOCX 파일에서 텍스트 불러오기\n",
    "pdf_content = read_pdf(pdf_file_path)\n",
    "# docx_content = read_docx(docx_file_path)\n",
    "# pdf_content2 = read_pdf(pdf_file_path2)\n",
    "\n",
    "\n",
    "# PDF 및 DOCX 데이터를 문서 리스트로 변환\n",
    "documents = []\n",
    "\n",
    "# pdf_content는 리스트 형태일 가능성이 높으므로 개별 텍스트로 변환\n",
    "for text in pdf_content:\n",
    "    if isinstance(text, str):\n",
    "        documents.append(Document(page_content=text))\n",
    "    else:\n",
    "        st.error(\"PDF 내용이 올바른 문자열 형식이 아닙니다.\")\n",
    "\n",
    "# # docx_content는 하나의 문자열이므로 바로 추가\n",
    "# if isinstance(docx_content, str):\n",
    "#     documents.append(Document(page_content=docx_content))\n",
    "# else:\n",
    "#     st.error(\"DOCX 내용이 올바른 문자열 형식이 아닙니다.\")\n",
    "\n",
    "# # pdf_content2도 리스트일 가능성이 있으므로 개별 텍스트로 변환\n",
    "# for text in pdf_content2:\n",
    "#     if isinstance(text, str):\n",
    "#         documents.append(Document(page_content=text))\n",
    "#     else:\n",
    "#         st.error(\"두 번째 PDF 내용이 올바른 문자열 형식이 아닙니다.\")\n"
   ]
  },
  {
   "cell_type": "code",
   "execution_count": 8,
   "id": "4d6c84a8-398c-45f6-8dd4-89e6a42ed980",
   "metadata": {},
   "outputs": [],
   "source": [
    "import streamlit as st\n",
    "import pandas as pd\n",
    "# PDF 및 DOCX 데이터를 문서 리스트로 변환\n",
    "documents = []\n",
    "\n",
    "# pdf_content는 리스트 형태일 가능성이 높으므로 개별 텍스트로 변환\n",
    "\n",
    "# docx_content는 하나의 문자열이므로 바로 추가\n",
    "if isinstance(docx_content, str):\n",
    "    documents.append(Document(page_content=docx_content))\n",
    "else:\n",
    "    st.error(\"DOCX 내용이 올바른 문자열 형식이 아닙니다.\")"
   ]
  },
  {
   "cell_type": "code",
   "execution_count": 24,
   "id": "87267070-44e0-4e7c-ac94-4115b8e752fc",
   "metadata": {},
   "outputs": [
    {
     "data": {
      "text/html": [
       "<pre style=\"white-space:pre;overflow-x:auto;line-height:normal;font-family:Menlo,'DejaVu Sans Mono',consolas,'Courier New',monospace\"><span style=\"color: #7fbfbf; text-decoration-color: #7fbfbf\">[09/12/24 18:17:59] </span><span style=\"color: #000080; text-decoration-color: #000080\">INFO    </span> <span style=\"font-weight: bold\">[</span>SentenceTransformer.py:<span style=\"color: #008080; text-decoration-color: #008080; font-weight: bold\">197</span><span style=\"font-weight: bold\">]</span> &gt;&gt; Load pretrained             <a href=\"file://C:\\Users\\CAWCAW\\anaconda3\\envs\\dl\\Lib\\site-packages\\sentence_transformers\\SentenceTransformer.py\" target=\"_blank\"><span style=\"color: #7f7f7f; text-decoration-color: #7f7f7f\">SentenceTransformer.py</span></a><span style=\"color: #7f7f7f; text-decoration-color: #7f7f7f\">:</span><a href=\"file://C:\\Users\\CAWCAW\\anaconda3\\envs\\dl\\Lib\\site-packages\\sentence_transformers\\SentenceTransformer.py#197\" target=\"_blank\"><span style=\"color: #7f7f7f; text-decoration-color: #7f7f7f\">197</span></a>\n",
       "<span style=\"color: #7fbfbf; text-decoration-color: #7fbfbf\">                    </span>         SentenceTransformer: jhgan/ko-sroberta-multitask            <span style=\"color: #7f7f7f; text-decoration-color: #7f7f7f\">                          </span>\n",
       "</pre>\n"
      ],
      "text/plain": [
       "\u001b[2;36m[09/12/24 18:17:59]\u001b[0m\u001b[2;36m \u001b[0m\u001b[34mINFO    \u001b[0m \u001b[1m[\u001b[0mSentenceTransformer.py:\u001b[1;36m197\u001b[0m\u001b[1m]\u001b[0m >> Load pretrained             \u001b]8;id=145595;file://C:\\Users\\CAWCAW\\anaconda3\\envs\\dl\\Lib\\site-packages\\sentence_transformers\\SentenceTransformer.py\u001b\\\u001b[2mSentenceTransformer.py\u001b[0m\u001b]8;;\u001b\\\u001b[2m:\u001b[0m\u001b]8;id=469571;file://C:\\Users\\CAWCAW\\anaconda3\\envs\\dl\\Lib\\site-packages\\sentence_transformers\\SentenceTransformer.py#197\u001b\\\u001b[2m197\u001b[0m\u001b]8;;\u001b\\\n",
       "\u001b[2;36m                    \u001b[0m         SentenceTransformer: jhgan/ko-sroberta-multitask            \u001b[2m                          \u001b[0m\n"
      ]
     },
     "metadata": {},
     "output_type": "display_data"
    },
    {
     "name": "stderr",
     "output_type": "stream",
     "text": [
      "C:\\Users\\CAWCAW\\anaconda3\\envs\\dl\\Lib\\site-packages\\transformers\\tokenization_utils_base.py:1601: FutureWarning: `clean_up_tokenization_spaces` was not set. It will be set to `True` by default. This behavior will be depracted in transformers v4.45, and will be then set to `False` by default. For more details check this issue: https://github.com/huggingface/transformers/issues/31884\n",
      "  warnings.warn(\n"
     ]
    },
    {
     "data": {
      "text/html": [
       "<pre style=\"white-space:pre;overflow-x:auto;line-height:normal;font-family:Menlo,'DejaVu Sans Mono',consolas,'Courier New',monospace\"><span style=\"color: #7fbfbf; text-decoration-color: #7fbfbf\">[09/12/24 18:18:02] </span><span style=\"color: #000080; text-decoration-color: #000080\">INFO    </span> <span style=\"font-weight: bold\">[</span>loader.py:<span style=\"color: #008080; text-decoration-color: #008080; font-weight: bold\">74</span><span style=\"font-weight: bold\">]</span> &gt;&gt; Loading faiss with AVX512 support.                      <a href=\"file://C:\\Users\\CAWCAW\\anaconda3\\envs\\dl\\Lib\\site-packages\\faiss\\loader.py\" target=\"_blank\"><span style=\"color: #7f7f7f; text-decoration-color: #7f7f7f\">loader.py</span></a><span style=\"color: #7f7f7f; text-decoration-color: #7f7f7f\">:</span><a href=\"file://C:\\Users\\CAWCAW\\anaconda3\\envs\\dl\\Lib\\site-packages\\faiss\\loader.py#74\" target=\"_blank\"><span style=\"color: #7f7f7f; text-decoration-color: #7f7f7f\">74</span></a>\n",
       "</pre>\n"
      ],
      "text/plain": [
       "\u001b[2;36m[09/12/24 18:18:02]\u001b[0m\u001b[2;36m \u001b[0m\u001b[34mINFO    \u001b[0m \u001b[1m[\u001b[0mloader.py:\u001b[1;36m74\u001b[0m\u001b[1m]\u001b[0m >> Loading faiss with AVX512 support.                      \u001b]8;id=57204;file://C:\\Users\\CAWCAW\\anaconda3\\envs\\dl\\Lib\\site-packages\\faiss\\loader.py\u001b\\\u001b[2mloader.py\u001b[0m\u001b]8;;\u001b\\\u001b[2m:\u001b[0m\u001b]8;id=175755;file://C:\\Users\\CAWCAW\\anaconda3\\envs\\dl\\Lib\\site-packages\\faiss\\loader.py#74\u001b\\\u001b[2m74\u001b[0m\u001b]8;;\u001b\\\n"
      ]
     },
     "metadata": {},
     "output_type": "display_data"
    },
    {
     "data": {
      "text/html": [
       "<pre style=\"white-space:pre;overflow-x:auto;line-height:normal;font-family:Menlo,'DejaVu Sans Mono',consolas,'Courier New',monospace\"><span style=\"color: #7fbfbf; text-decoration-color: #7fbfbf\">                    </span><span style=\"color: #000080; text-decoration-color: #000080\">INFO    </span> <span style=\"font-weight: bold\">[</span>loader.py:<span style=\"color: #008080; text-decoration-color: #008080; font-weight: bold\">79</span><span style=\"font-weight: bold\">]</span> &gt;&gt; Could not load library with AVX512 support due to:      <a href=\"file://C:\\Users\\CAWCAW\\anaconda3\\envs\\dl\\Lib\\site-packages\\faiss\\loader.py\" target=\"_blank\"><span style=\"color: #7f7f7f; text-decoration-color: #7f7f7f\">loader.py</span></a><span style=\"color: #7f7f7f; text-decoration-color: #7f7f7f\">:</span><a href=\"file://C:\\Users\\CAWCAW\\anaconda3\\envs\\dl\\Lib\\site-packages\\faiss\\loader.py#79\" target=\"_blank\"><span style=\"color: #7f7f7f; text-decoration-color: #7f7f7f\">79</span></a>\n",
       "<span style=\"color: #7fbfbf; text-decoration-color: #7fbfbf\">                    </span>         <span style=\"color: #800080; text-decoration-color: #800080; font-weight: bold\">ModuleNotFoundError</span><span style=\"font-weight: bold\">(</span><span style=\"color: #008000; text-decoration-color: #008000\">\"No module named 'faiss.swigfaiss_avx512'\"</span><span style=\"font-weight: bold\">)</span>           <span style=\"color: #7f7f7f; text-decoration-color: #7f7f7f\">            </span>\n",
       "</pre>\n"
      ],
      "text/plain": [
       "\u001b[2;36m                   \u001b[0m\u001b[2;36m \u001b[0m\u001b[34mINFO    \u001b[0m \u001b[1m[\u001b[0mloader.py:\u001b[1;36m79\u001b[0m\u001b[1m]\u001b[0m >> Could not load library with AVX512 support due to:      \u001b]8;id=383618;file://C:\\Users\\CAWCAW\\anaconda3\\envs\\dl\\Lib\\site-packages\\faiss\\loader.py\u001b\\\u001b[2mloader.py\u001b[0m\u001b]8;;\u001b\\\u001b[2m:\u001b[0m\u001b]8;id=364265;file://C:\\Users\\CAWCAW\\anaconda3\\envs\\dl\\Lib\\site-packages\\faiss\\loader.py#79\u001b\\\u001b[2m79\u001b[0m\u001b]8;;\u001b\\\n",
       "\u001b[2;36m                    \u001b[0m         \u001b[1;35mModuleNotFoundError\u001b[0m\u001b[1m(\u001b[0m\u001b[32m\"No module named 'faiss.swigfaiss_avx512'\"\u001b[0m\u001b[1m)\u001b[0m           \u001b[2m            \u001b[0m\n"
      ]
     },
     "metadata": {},
     "output_type": "display_data"
    },
    {
     "data": {
      "text/html": [
       "<pre style=\"white-space:pre;overflow-x:auto;line-height:normal;font-family:Menlo,'DejaVu Sans Mono',consolas,'Courier New',monospace\"><span style=\"color: #7fbfbf; text-decoration-color: #7fbfbf\">                    </span><span style=\"color: #000080; text-decoration-color: #000080\">INFO    </span> <span style=\"font-weight: bold\">[</span>loader.py:<span style=\"color: #008080; text-decoration-color: #008080; font-weight: bold\">86</span><span style=\"font-weight: bold\">]</span> &gt;&gt; Loading faiss with AVX2 support.                        <a href=\"file://C:\\Users\\CAWCAW\\anaconda3\\envs\\dl\\Lib\\site-packages\\faiss\\loader.py\" target=\"_blank\"><span style=\"color: #7f7f7f; text-decoration-color: #7f7f7f\">loader.py</span></a><span style=\"color: #7f7f7f; text-decoration-color: #7f7f7f\">:</span><a href=\"file://C:\\Users\\CAWCAW\\anaconda3\\envs\\dl\\Lib\\site-packages\\faiss\\loader.py#86\" target=\"_blank\"><span style=\"color: #7f7f7f; text-decoration-color: #7f7f7f\">86</span></a>\n",
       "</pre>\n"
      ],
      "text/plain": [
       "\u001b[2;36m                   \u001b[0m\u001b[2;36m \u001b[0m\u001b[34mINFO    \u001b[0m \u001b[1m[\u001b[0mloader.py:\u001b[1;36m86\u001b[0m\u001b[1m]\u001b[0m >> Loading faiss with AVX2 support.                        \u001b]8;id=420616;file://C:\\Users\\CAWCAW\\anaconda3\\envs\\dl\\Lib\\site-packages\\faiss\\loader.py\u001b\\\u001b[2mloader.py\u001b[0m\u001b]8;;\u001b\\\u001b[2m:\u001b[0m\u001b]8;id=91847;file://C:\\Users\\CAWCAW\\anaconda3\\envs\\dl\\Lib\\site-packages\\faiss\\loader.py#86\u001b\\\u001b[2m86\u001b[0m\u001b]8;;\u001b\\\n"
      ]
     },
     "metadata": {},
     "output_type": "display_data"
    },
    {
     "data": {
      "text/html": [
       "<pre style=\"white-space:pre;overflow-x:auto;line-height:normal;font-family:Menlo,'DejaVu Sans Mono',consolas,'Courier New',monospace\"><span style=\"color: #7fbfbf; text-decoration-color: #7fbfbf\">                    </span><span style=\"color: #000080; text-decoration-color: #000080\">INFO    </span> <span style=\"font-weight: bold\">[</span>loader.py:<span style=\"color: #008080; text-decoration-color: #008080; font-weight: bold\">88</span><span style=\"font-weight: bold\">]</span> &gt;&gt; Successfully loaded faiss with AVX2 support.            <a href=\"file://C:\\Users\\CAWCAW\\anaconda3\\envs\\dl\\Lib\\site-packages\\faiss\\loader.py\" target=\"_blank\"><span style=\"color: #7f7f7f; text-decoration-color: #7f7f7f\">loader.py</span></a><span style=\"color: #7f7f7f; text-decoration-color: #7f7f7f\">:</span><a href=\"file://C:\\Users\\CAWCAW\\anaconda3\\envs\\dl\\Lib\\site-packages\\faiss\\loader.py#88\" target=\"_blank\"><span style=\"color: #7f7f7f; text-decoration-color: #7f7f7f\">88</span></a>\n",
       "</pre>\n"
      ],
      "text/plain": [
       "\u001b[2;36m                   \u001b[0m\u001b[2;36m \u001b[0m\u001b[34mINFO    \u001b[0m \u001b[1m[\u001b[0mloader.py:\u001b[1;36m88\u001b[0m\u001b[1m]\u001b[0m >> Successfully loaded faiss with AVX2 support.            \u001b]8;id=124041;file://C:\\Users\\CAWCAW\\anaconda3\\envs\\dl\\Lib\\site-packages\\faiss\\loader.py\u001b\\\u001b[2mloader.py\u001b[0m\u001b]8;;\u001b\\\u001b[2m:\u001b[0m\u001b]8;id=317959;file://C:\\Users\\CAWCAW\\anaconda3\\envs\\dl\\Lib\\site-packages\\faiss\\loader.py#88\u001b\\\u001b[2m88\u001b[0m\u001b]8;;\u001b\\\n"
      ]
     },
     "metadata": {},
     "output_type": "display_data"
    },
    {
     "name": "stderr",
     "output_type": "stream",
     "text": [
      "2024-09-12 18:18:03.226 WARNING streamlit.runtime.scriptrunner_utils.script_run_context: Thread 'MainThread': missing ScriptRunContext! This warning can be ignored when running in bare mode.\n",
      "2024-09-12 18:18:03.227 WARNING streamlit.runtime.state.session_state_proxy: Session state does not function when running a script without `streamlit run`\n",
      "2024-09-12 18:18:03.227 WARNING streamlit.runtime.scriptrunner_utils.script_run_context: Thread 'MainThread': missing ScriptRunContext! This warning can be ignored when running in bare mode.\n",
      "2024-09-12 18:18:03.228 WARNING streamlit.runtime.scriptrunner_utils.script_run_context: Thread 'MainThread': missing ScriptRunContext! This warning can be ignored when running in bare mode.\n",
      "2024-09-12 18:18:03.229 WARNING streamlit.runtime.scriptrunner_utils.script_run_context: Thread 'MainThread': missing ScriptRunContext! This warning can be ignored when running in bare mode.\n",
      "2024-09-12 18:18:03.230 WARNING streamlit.runtime.scriptrunner_utils.script_run_context: Thread 'MainThread': missing ScriptRunContext! This warning can be ignored when running in bare mode.\n",
      "2024-09-12 18:18:03.231 WARNING streamlit.runtime.scriptrunner_utils.script_run_context: Thread 'MainThread': missing ScriptRunContext! This warning can be ignored when running in bare mode.\n",
      "2024-09-12 18:18:03.257 \n",
      "  \u001b[33m\u001b[1mWarning:\u001b[0m to view this Streamlit app on a browser, run it with the following\n",
      "  command:\n",
      "\n",
      "    streamlit run C:\\Users\\CAWCAW\\anaconda3\\envs\\dl\\Lib\\site-packages\\ipykernel_launcher.py [ARGUMENTS]\n",
      "2024-09-12 18:18:03.258 Thread 'MainThread': missing ScriptRunContext! This warning can be ignored when running in bare mode.\n"
     ]
    }
   ],
   "source": [
    "# 텍스트를 청크로 분리하는 함수\n",
    "def get_text_chunks(documents):\n",
    "    text_splitter = RecursiveCharacterTextSplitter(\n",
    "        chunk_size=120,  # 청크 크기를 더 줄임\n",
    "        chunk_overlap=10,\n",
    "        length_function=len\n",
    "    )\n",
    "    chunks = text_splitter.split_documents(documents)\n",
    "    return chunks\n",
    "\n",
    "# 벡터 스토어 생성 함수\n",
    "def get_vectorstore(_text_chunks):\n",
    "    embeddings = HuggingFaceEmbeddings(\n",
    "        model_name=\"jhgan/ko-sroberta-multitask\",\n",
    "        model_kwargs={'device': 'cuda'},\n",
    "        encode_kwargs={'normalize_embeddings': True}\n",
    "    )\n",
    "    vectordb = FAISS.from_documents(_text_chunks, embeddings)\n",
    "    return vectordb\n",
    "# 텍스트 청크 생성\n",
    "text_chunks = get_text_chunks(documents)\n",
    "\n",
    "# 벡터 스토어 생성\n",
    "vectorstore = get_vectorstore(text_chunks)\n",
    "\n",
    "system_message = \"\"\"\n",
    "data = {\n",
    "    \"항목\": [\n",
    "        \"이름\", \"만나이\", \"성별\", \"키\", \"체중\", \"허리둘레\", \n",
    "        \"이상지질혈증 여부\", \"당뇨병 여부\", \n",
    "        \"술을 마십니까?\", \"술을 얼마나 자주 마십니까?\", \"한 번에 술을 얼마나 마십니까?\", \n",
    "        \"한 번의 술자리에서 7잔 이상을 마시는 횟수\", \"술을 끊거나 줄이라는 권고를 받은 적이 있습니까?\", \n",
    "        \"최근 1년 동안 음주 문제로 상담을 받아본 적이 있습니까?\",\n",
    "        \"고강도 운동 여부\", \"1주일에 며칠 하십니까?\", \"한 번 할 때 몇 시간 하십니까?\", \n",
    "        \"중강도 운동 여부\", \"1주일에 며칠 하십니까?\", \"한 번 할 때 몇 시간 하십니까?\", \n",
    "        \"걷기나 자전거를 이용하십니까?\", \"1주일에 며칠 하십니까?\", \"대략 몇 시간 움직이십니까?\",\n",
    "        \"음주 점수\", \"신체활동 점수\", \"고혈압 확률\",\n",
    "        \"음주 점수 (동나이대/성별 평균)\", \"신체 활동 점수 (동나이대/성별 평균)\", \"고혈압 확률 (동나이대/성별 평균)\"\n",
    "    ],\n",
    "    \"값\": [\n",
    "        \"김첨지\", 38, \"남자\", \"173.0 cm\", \"89.0 kg\", \"88.9 cm\",\n",
    "        \"없음\", \"없음\",\n",
    "        \"마신다\", \"월1회정도\", \"1-2잔\",\n",
    "        \"월 1회 미만\", \"없음\", \"없음\",\n",
    "        \"안 한다\", \"None\", \"None\", \n",
    "        \"안 한다\", \"None\", \"None\",\n",
    "        \"한다\", \"5일\", \"2시간 0분\",\n",
    "        \"9점\", \"6.39859점\", \"21.41%\",\n",
    "        \"25.91점\", \"5.56점\", \"25.32%\"\n",
    "    ]\n",
    "}\n",
    "너는 이 데이터를 읽고 데이터에 알맞은 식단이나 레시피를 소개하주는 영양전문가야.\n",
    "\n",
    "\"\"\"\n",
    "\n",
    "# 대화형 체인 생성 함수\n",
    "def get_conversation_chain(_vectorstore):\n",
    "    llm = ChatOpenAI(\n",
    "        base_url=\"http://localhost:1234/v1\",\n",
    "        api_key=\"lm-studio\",\n",
    "        model=\"teddylee777/EEVE-Korean-Instruct-10.8B-v1.0-gguf\",\n",
    "        temperature=0.3,\n",
    "        streaming=True\n",
    "    )\n",
    "\n",
    "    retriever = _vectorstore.as_retriever(\n",
    "        search_type='similarity',\n",
    "        search_kwargs={\"k\": 5},\n",
    "        verbose=False\n",
    "    )\n",
    "\n",
    "    # 시스템 메시지를 포함하는 프롬프트 템플릿 생성\n",
    "    prompt_template = ChatPromptTemplate.from_messages([\n",
    "        (\"system\", system_message),\n",
    "        (\"user\", \"{question}\")\n",
    "    ])\n",
    "\n",
    "    conversation_chain = ConversationalRetrievalChain.from_llm(\n",
    "        llm=llm, \n",
    "        chain_type=\"stuff\",\n",
    "        retriever=retriever, \n",
    "        return_source_documents=True,\n",
    "\n",
    "        verbose=False\n",
    "    )\n",
    "    return conversation_chain\n",
    "\n",
    "# 대화형 체인 생성\n",
    "conversation_chain = get_conversation_chain(vectorstore)\n",
    "\n",
    "if 'conversation' not in st.session_state:\n",
    "    st.session_state.conversation = conversation_chain\n",
    "\n",
    "def get_prompt_template(query):\n",
    "    # \"고혈압\"이 포함된 경우\n",
    "    if \"고혈압\" in query:\n",
    "        prompt = Template(f\"\"\"\n",
    "        사용자가 원하는 기간이 있으면 그 기간, 없으면 하루\n",
    "        나트륨이 1000mg 이하인 식단을 추천해 주세요.\n",
    "        무조건 {pdf_file_path} 또는 자료에서만 찾아줘.\n",
    "        \"\"\")\n",
    "    # \"식단\"이 포함된 경우\n",
    "    elif \"고혈압\" not in query and \"식단\" in query:\n",
    "        prompt = Template(f\"\"\"\n",
    "        사용자가 원하는 기간이 있으면 그 기간, 없으면 하루\n",
    "        나트륨 제한 없이 식단을 추천해 주세요.\n",
    "        무조건 {pdf_file_path} 또는  자료에서만 찾아줘.\n",
    "        \"\"\")\n",
    "    # \"레시피\"가 포함된 경우\n",
    "    elif \"레시피\" in query:\n",
    "        prompt = Template(f\"\"\"\n",
    "        무조건 {pdf_file_path} 또는  자료에서 {query}의 레시피를 찾아서 자세히 설명해 줘.\n",
    "        \"\"\")\n",
    "    else:\n",
    "        prompt = Template(f\"\"\"\n",
    "        {pdf_file_path} 또는  자료뿐만 아니라 추가적인 정보를 포함해서 자유롭게 답변해 줘.\n",
    "        \"\"\")\n",
    "    return prompt.substitute(query=query)\n",
    "\n",
    "# Chat logic\n",
    "if query := st.chat_input(\"식단 또는 레시피를 물어보세요.\"):\n",
    "    # 입력된 query를 템플릿화\n",
    "    formatted_query = get_prompt_template(query)\n",
    "\n",
    "    with st.chat_message(\"user\"):\n",
    "        st.markdown(query)\n",
    "\n",
    "    with st.chat_message(\"assistant\"):\n",
    "        chain = st.session_state.conversation\n",
    "\n",
    "        with st.spinner(\"Thinking...\"):\n",
    "            # 빈 chat_history를 전달\n",
    "            result = chain({\"question\": formatted_query, \"chat_history\": []})\n",
    "            response = result['answer']\n",
    "            source_documents = result['source_documents']\n",
    "\n",
    "            response_container = st.empty()"
   ]
  },
  {
   "cell_type": "code",
   "execution_count": 28,
   "id": "328681e5-ad6e-4639-b083-e409786ec276",
   "metadata": {
    "scrolled": true
   },
   "outputs": [],
   "source": [
    "from autorag.data.corpus import langchain_documents_to_parquet\n",
    "corpus_df = langchain_documents_to_parquet(text_chunks, './qnaset7.parquet')"
   ]
  },
  {
   "cell_type": "code",
   "execution_count": 32,
   "id": "ec676d9f-77fd-402d-af7d-a1cb0361754c",
   "metadata": {
    "scrolled": true
   },
   "outputs": [
    {
     "data": {
      "text/plain": [
       "460"
      ]
     },
     "execution_count": 32,
     "metadata": {},
     "output_type": "execute_result"
    }
   ],
   "source": [
    "corpus_df.head()\n",
    "len(corpus_df)"
   ]
  },
  {
   "cell_type": "code",
   "execution_count": 46,
   "id": "534aef27-4f1f-4b9e-91a8-9a6253d027e8",
   "metadata": {},
   "outputs": [],
   "source": [
    "import asyncio\n",
    "import nest_asyncio\n",
    "from autorag.data.qacreation import generate_qa_llama_index, make_single_content_qa\n",
    "from llama_index.llms.ollama import Ollama\n",
    "\n",
    "# nest_asyncio를 사용하여 중첩된 이벤트 루프 허용\n",
    "nest_asyncio.apply()\n"
   ]
  },
  {
   "cell_type": "code",
   "execution_count": 48,
   "id": "3b35fbe4-53a7-4451-bca1-7b958bb8a19c",
   "metadata": {},
   "outputs": [
    {
     "name": "stderr",
     "output_type": "stream",
     "text": [
      "0it [00:00, ?it/s]"
     ]
    },
    {
     "data": {
      "text/html": [
       "<pre style=\"white-space:pre;overflow-x:auto;line-height:normal;font-family:Menlo,'DejaVu Sans Mono',consolas,'Courier New',monospace\"><span style=\"color: #7fbfbf; text-decoration-color: #7fbfbf\">[09/12/24 18:21:24] </span><span style=\"color: #000080; text-decoration-color: #000080\">INFO    </span> <span style=\"font-weight: bold\">[</span>_client.py:<span style=\"color: #008080; text-decoration-color: #008080; font-weight: bold\">1773</span><span style=\"font-weight: bold\">]</span> &gt;&gt; HTTP Request: <span style=\"color: #808000; text-decoration-color: #808000; font-weight: bold\">POST</span>                                <a href=\"file://C:\\Users\\CAWCAW\\anaconda3\\envs\\dl\\Lib\\site-packages\\httpx\\_client.py\" target=\"_blank\"><span style=\"color: #7f7f7f; text-decoration-color: #7f7f7f\">_client.py</span></a><span style=\"color: #7f7f7f; text-decoration-color: #7f7f7f\">:</span><a href=\"file://C:\\Users\\CAWCAW\\anaconda3\\envs\\dl\\Lib\\site-packages\\httpx\\_client.py#1773\" target=\"_blank\"><span style=\"color: #7f7f7f; text-decoration-color: #7f7f7f\">1773</span></a>\n",
       "<span style=\"color: #7fbfbf; text-decoration-color: #7fbfbf\">                    </span>         <span style=\"color: #0000ff; text-decoration-color: #0000ff; text-decoration: underline\">http://localhost:11434/api/chat</span> <span style=\"color: #008000; text-decoration-color: #008000\">\"HTTP/1.1 200 OK\"</span>                      <span style=\"color: #7f7f7f; text-decoration-color: #7f7f7f\">               </span>\n",
       "</pre>\n"
      ],
      "text/plain": [
       "\u001b[2;36m[09/12/24 18:21:24]\u001b[0m\u001b[2;36m \u001b[0m\u001b[34mINFO    \u001b[0m \u001b[1m[\u001b[0m_client.py:\u001b[1;36m1773\u001b[0m\u001b[1m]\u001b[0m >> HTTP Request: \u001b[1;33mPOST\u001b[0m                                \u001b]8;id=100147;file://C:\\Users\\CAWCAW\\anaconda3\\envs\\dl\\Lib\\site-packages\\httpx\\_client.py\u001b\\\u001b[2m_client.py\u001b[0m\u001b]8;;\u001b\\\u001b[2m:\u001b[0m\u001b]8;id=545296;file://C:\\Users\\CAWCAW\\anaconda3\\envs\\dl\\Lib\\site-packages\\httpx\\_client.py#1773\u001b\\\u001b[2m1773\u001b[0m\u001b]8;;\u001b\\\n",
       "\u001b[2;36m                    \u001b[0m         \u001b[4;94mhttp://localhost:11434/api/chat\u001b[0m \u001b[32m\"HTTP/1.1 200 OK\"\u001b[0m                      \u001b[2m               \u001b[0m\n"
      ]
     },
     "metadata": {},
     "output_type": "display_data"
    },
    {
     "data": {
      "text/html": [
       "<pre style=\"white-space:pre;overflow-x:auto;line-height:normal;font-family:Menlo,'DejaVu Sans Mono',consolas,'Courier New',monospace\"><span style=\"color: #7fbfbf; text-decoration-color: #7fbfbf\">[09/12/24 18:21:28] </span><span style=\"color: #000080; text-decoration-color: #000080\">INFO    </span> <span style=\"font-weight: bold\">[</span>_client.py:<span style=\"color: #008080; text-decoration-color: #008080; font-weight: bold\">1773</span><span style=\"font-weight: bold\">]</span> &gt;&gt; HTTP Request: <span style=\"color: #808000; text-decoration-color: #808000; font-weight: bold\">POST</span>                                <a href=\"file://C:\\Users\\CAWCAW\\anaconda3\\envs\\dl\\Lib\\site-packages\\httpx\\_client.py\" target=\"_blank\"><span style=\"color: #7f7f7f; text-decoration-color: #7f7f7f\">_client.py</span></a><span style=\"color: #7f7f7f; text-decoration-color: #7f7f7f\">:</span><a href=\"file://C:\\Users\\CAWCAW\\anaconda3\\envs\\dl\\Lib\\site-packages\\httpx\\_client.py#1773\" target=\"_blank\"><span style=\"color: #7f7f7f; text-decoration-color: #7f7f7f\">1773</span></a>\n",
       "<span style=\"color: #7fbfbf; text-decoration-color: #7fbfbf\">                    </span>         <span style=\"color: #0000ff; text-decoration-color: #0000ff; text-decoration: underline\">http://localhost:11434/api/chat</span> <span style=\"color: #008000; text-decoration-color: #008000\">\"HTTP/1.1 200 OK\"</span>                      <span style=\"color: #7f7f7f; text-decoration-color: #7f7f7f\">               </span>\n",
       "</pre>\n"
      ],
      "text/plain": [
       "\u001b[2;36m[09/12/24 18:21:28]\u001b[0m\u001b[2;36m \u001b[0m\u001b[34mINFO    \u001b[0m \u001b[1m[\u001b[0m_client.py:\u001b[1;36m1773\u001b[0m\u001b[1m]\u001b[0m >> HTTP Request: \u001b[1;33mPOST\u001b[0m                                \u001b]8;id=104617;file://C:\\Users\\CAWCAW\\anaconda3\\envs\\dl\\Lib\\site-packages\\httpx\\_client.py\u001b\\\u001b[2m_client.py\u001b[0m\u001b]8;;\u001b\\\u001b[2m:\u001b[0m\u001b]8;id=738619;file://C:\\Users\\CAWCAW\\anaconda3\\envs\\dl\\Lib\\site-packages\\httpx\\_client.py#1773\u001b\\\u001b[2m1773\u001b[0m\u001b]8;;\u001b\\\n",
       "\u001b[2;36m                    \u001b[0m         \u001b[4;94mhttp://localhost:11434/api/chat\u001b[0m \u001b[32m\"HTTP/1.1 200 OK\"\u001b[0m                      \u001b[2m               \u001b[0m\n"
      ]
     },
     "metadata": {},
     "output_type": "display_data"
    },
    {
     "name": "stderr",
     "output_type": "stream",
     "text": [
      "0it [00:30, ?it/s]\n"
     ]
    },
    {
     "ename": "ReadTimeout",
     "evalue": "",
     "output_type": "error",
     "traceback": [
      "\u001b[1;31m---------------------------------------------------------------------------\u001b[0m",
      "\u001b[1;31mReadTimeout\u001b[0m                               Traceback (most recent call last)",
      "File \u001b[1;32m~\\anaconda3\\envs\\dl\\Lib\\site-packages\\httpx\\_transports\\default.py:69\u001b[0m, in \u001b[0;36mmap_httpcore_exceptions\u001b[1;34m()\u001b[0m\n\u001b[0;32m     68\u001b[0m \u001b[38;5;28;01mtry\u001b[39;00m:\n\u001b[1;32m---> 69\u001b[0m     \u001b[38;5;28;01myield\u001b[39;00m\n\u001b[0;32m     70\u001b[0m \u001b[38;5;28;01mexcept\u001b[39;00m \u001b[38;5;167;01mException\u001b[39;00m \u001b[38;5;28;01mas\u001b[39;00m exc:\n",
      "File \u001b[1;32m~\\anaconda3\\envs\\dl\\Lib\\site-packages\\httpx\\_transports\\default.py:373\u001b[0m, in \u001b[0;36mAsyncHTTPTransport.handle_async_request\u001b[1;34m(self, request)\u001b[0m\n\u001b[0;32m    372\u001b[0m \u001b[38;5;28;01mwith\u001b[39;00m map_httpcore_exceptions():\n\u001b[1;32m--> 373\u001b[0m     resp \u001b[38;5;241m=\u001b[39m \u001b[38;5;28;01mawait\u001b[39;00m \u001b[38;5;28mself\u001b[39m\u001b[38;5;241m.\u001b[39m_pool\u001b[38;5;241m.\u001b[39mhandle_async_request(req)\n\u001b[0;32m    375\u001b[0m \u001b[38;5;28;01massert\u001b[39;00m \u001b[38;5;28misinstance\u001b[39m(resp\u001b[38;5;241m.\u001b[39mstream, typing\u001b[38;5;241m.\u001b[39mAsyncIterable)\n",
      "File \u001b[1;32m~\\anaconda3\\envs\\dl\\Lib\\site-packages\\httpcore\\_async\\connection_pool.py:216\u001b[0m, in \u001b[0;36mAsyncConnectionPool.handle_async_request\u001b[1;34m(self, request)\u001b[0m\n\u001b[0;32m    215\u001b[0m     \u001b[38;5;28;01mawait\u001b[39;00m \u001b[38;5;28mself\u001b[39m\u001b[38;5;241m.\u001b[39m_close_connections(closing)\n\u001b[1;32m--> 216\u001b[0m     \u001b[38;5;28;01mraise\u001b[39;00m exc \u001b[38;5;28;01mfrom\u001b[39;00m \u001b[38;5;28;01mNone\u001b[39;00m\n\u001b[0;32m    218\u001b[0m \u001b[38;5;66;03m# Return the response. Note that in this case we still have to manage\u001b[39;00m\n\u001b[0;32m    219\u001b[0m \u001b[38;5;66;03m# the point at which the response is closed.\u001b[39;00m\n",
      "File \u001b[1;32m~\\anaconda3\\envs\\dl\\Lib\\site-packages\\httpcore\\_async\\connection_pool.py:196\u001b[0m, in \u001b[0;36mAsyncConnectionPool.handle_async_request\u001b[1;34m(self, request)\u001b[0m\n\u001b[0;32m    194\u001b[0m \u001b[38;5;28;01mtry\u001b[39;00m:\n\u001b[0;32m    195\u001b[0m     \u001b[38;5;66;03m# Send the request on the assigned connection.\u001b[39;00m\n\u001b[1;32m--> 196\u001b[0m     response \u001b[38;5;241m=\u001b[39m \u001b[38;5;28;01mawait\u001b[39;00m connection\u001b[38;5;241m.\u001b[39mhandle_async_request(\n\u001b[0;32m    197\u001b[0m         pool_request\u001b[38;5;241m.\u001b[39mrequest\n\u001b[0;32m    198\u001b[0m     )\n\u001b[0;32m    199\u001b[0m \u001b[38;5;28;01mexcept\u001b[39;00m ConnectionNotAvailable:\n\u001b[0;32m    200\u001b[0m     \u001b[38;5;66;03m# In some cases a connection may initially be available to\u001b[39;00m\n\u001b[0;32m    201\u001b[0m     \u001b[38;5;66;03m# handle a request, but then become unavailable.\u001b[39;00m\n\u001b[0;32m    202\u001b[0m     \u001b[38;5;66;03m#\u001b[39;00m\n\u001b[0;32m    203\u001b[0m     \u001b[38;5;66;03m# In this case we clear the connection and try again.\u001b[39;00m\n",
      "File \u001b[1;32m~\\anaconda3\\envs\\dl\\Lib\\site-packages\\httpcore\\_async\\connection.py:101\u001b[0m, in \u001b[0;36mAsyncHTTPConnection.handle_async_request\u001b[1;34m(self, request)\u001b[0m\n\u001b[0;32m     99\u001b[0m     \u001b[38;5;28;01mraise\u001b[39;00m exc\n\u001b[1;32m--> 101\u001b[0m \u001b[38;5;28;01mreturn\u001b[39;00m \u001b[38;5;28;01mawait\u001b[39;00m \u001b[38;5;28mself\u001b[39m\u001b[38;5;241m.\u001b[39m_connection\u001b[38;5;241m.\u001b[39mhandle_async_request(request)\n",
      "File \u001b[1;32m~\\anaconda3\\envs\\dl\\Lib\\site-packages\\httpcore\\_async\\http11.py:143\u001b[0m, in \u001b[0;36mAsyncHTTP11Connection.handle_async_request\u001b[1;34m(self, request)\u001b[0m\n\u001b[0;32m    142\u001b[0m         \u001b[38;5;28;01mawait\u001b[39;00m \u001b[38;5;28mself\u001b[39m\u001b[38;5;241m.\u001b[39m_response_closed()\n\u001b[1;32m--> 143\u001b[0m \u001b[38;5;28;01mraise\u001b[39;00m exc\n",
      "File \u001b[1;32m~\\anaconda3\\envs\\dl\\Lib\\site-packages\\httpcore\\_async\\http11.py:113\u001b[0m, in \u001b[0;36mAsyncHTTP11Connection.handle_async_request\u001b[1;34m(self, request)\u001b[0m\n\u001b[0;32m    104\u001b[0m \u001b[38;5;28;01masync\u001b[39;00m \u001b[38;5;28;01mwith\u001b[39;00m Trace(\n\u001b[0;32m    105\u001b[0m     \u001b[38;5;124m\"\u001b[39m\u001b[38;5;124mreceive_response_headers\u001b[39m\u001b[38;5;124m\"\u001b[39m, logger, request, kwargs\n\u001b[0;32m    106\u001b[0m ) \u001b[38;5;28;01mas\u001b[39;00m trace:\n\u001b[0;32m    107\u001b[0m     (\n\u001b[0;32m    108\u001b[0m         http_version,\n\u001b[0;32m    109\u001b[0m         status,\n\u001b[0;32m    110\u001b[0m         reason_phrase,\n\u001b[0;32m    111\u001b[0m         headers,\n\u001b[0;32m    112\u001b[0m         trailing_data,\n\u001b[1;32m--> 113\u001b[0m     ) \u001b[38;5;241m=\u001b[39m \u001b[38;5;28;01mawait\u001b[39;00m \u001b[38;5;28mself\u001b[39m\u001b[38;5;241m.\u001b[39m_receive_response_headers(\u001b[38;5;241m*\u001b[39m\u001b[38;5;241m*\u001b[39mkwargs)\n\u001b[0;32m    114\u001b[0m     trace\u001b[38;5;241m.\u001b[39mreturn_value \u001b[38;5;241m=\u001b[39m (\n\u001b[0;32m    115\u001b[0m         http_version,\n\u001b[0;32m    116\u001b[0m         status,\n\u001b[0;32m    117\u001b[0m         reason_phrase,\n\u001b[0;32m    118\u001b[0m         headers,\n\u001b[0;32m    119\u001b[0m     )\n",
      "File \u001b[1;32m~\\anaconda3\\envs\\dl\\Lib\\site-packages\\httpcore\\_async\\http11.py:186\u001b[0m, in \u001b[0;36mAsyncHTTP11Connection._receive_response_headers\u001b[1;34m(self, request)\u001b[0m\n\u001b[0;32m    185\u001b[0m \u001b[38;5;28;01mwhile\u001b[39;00m \u001b[38;5;28;01mTrue\u001b[39;00m:\n\u001b[1;32m--> 186\u001b[0m     event \u001b[38;5;241m=\u001b[39m \u001b[38;5;28;01mawait\u001b[39;00m \u001b[38;5;28mself\u001b[39m\u001b[38;5;241m.\u001b[39m_receive_event(timeout\u001b[38;5;241m=\u001b[39mtimeout)\n\u001b[0;32m    187\u001b[0m     \u001b[38;5;28;01mif\u001b[39;00m \u001b[38;5;28misinstance\u001b[39m(event, h11\u001b[38;5;241m.\u001b[39mResponse):\n",
      "File \u001b[1;32m~\\anaconda3\\envs\\dl\\Lib\\site-packages\\httpcore\\_async\\http11.py:224\u001b[0m, in \u001b[0;36mAsyncHTTP11Connection._receive_event\u001b[1;34m(self, timeout)\u001b[0m\n\u001b[0;32m    223\u001b[0m \u001b[38;5;28;01mif\u001b[39;00m event \u001b[38;5;129;01mis\u001b[39;00m h11\u001b[38;5;241m.\u001b[39mNEED_DATA:\n\u001b[1;32m--> 224\u001b[0m     data \u001b[38;5;241m=\u001b[39m \u001b[38;5;28;01mawait\u001b[39;00m \u001b[38;5;28mself\u001b[39m\u001b[38;5;241m.\u001b[39m_network_stream\u001b[38;5;241m.\u001b[39mread(\n\u001b[0;32m    225\u001b[0m         \u001b[38;5;28mself\u001b[39m\u001b[38;5;241m.\u001b[39mREAD_NUM_BYTES, timeout\u001b[38;5;241m=\u001b[39mtimeout\n\u001b[0;32m    226\u001b[0m     )\n\u001b[0;32m    228\u001b[0m     \u001b[38;5;66;03m# If we feed this case through h11 we'll raise an exception like:\u001b[39;00m\n\u001b[0;32m    229\u001b[0m     \u001b[38;5;66;03m#\u001b[39;00m\n\u001b[0;32m    230\u001b[0m     \u001b[38;5;66;03m#     httpcore.RemoteProtocolError: can't handle event type\u001b[39;00m\n\u001b[1;32m   (...)\u001b[0m\n\u001b[0;32m    234\u001b[0m     \u001b[38;5;66;03m# perspective. Instead we handle this case distinctly and treat\u001b[39;00m\n\u001b[0;32m    235\u001b[0m     \u001b[38;5;66;03m# it as a ConnectError.\u001b[39;00m\n",
      "File \u001b[1;32m~\\anaconda3\\envs\\dl\\Lib\\site-packages\\httpcore\\_backends\\anyio.py:32\u001b[0m, in \u001b[0;36mAnyIOStream.read\u001b[1;34m(self, max_bytes, timeout)\u001b[0m\n\u001b[0;32m     26\u001b[0m exc_map \u001b[38;5;241m=\u001b[39m {\n\u001b[0;32m     27\u001b[0m     \u001b[38;5;167;01mTimeoutError\u001b[39;00m: ReadTimeout,\n\u001b[0;32m     28\u001b[0m     anyio\u001b[38;5;241m.\u001b[39mBrokenResourceError: ReadError,\n\u001b[0;32m     29\u001b[0m     anyio\u001b[38;5;241m.\u001b[39mClosedResourceError: ReadError,\n\u001b[0;32m     30\u001b[0m     anyio\u001b[38;5;241m.\u001b[39mEndOfStream: ReadError,\n\u001b[0;32m     31\u001b[0m }\n\u001b[1;32m---> 32\u001b[0m \u001b[43m\u001b[49m\u001b[38;5;28;43;01mwith\u001b[39;49;00m\u001b[43m \u001b[49m\u001b[43mmap_exceptions\u001b[49m\u001b[43m(\u001b[49m\u001b[43mexc_map\u001b[49m\u001b[43m)\u001b[49m\u001b[43m:\u001b[49m\n\u001b[0;32m     33\u001b[0m \u001b[43m    \u001b[49m\u001b[38;5;28;43;01mwith\u001b[39;49;00m\u001b[43m \u001b[49m\u001b[43manyio\u001b[49m\u001b[38;5;241;43m.\u001b[39;49m\u001b[43mfail_after\u001b[49m\u001b[43m(\u001b[49m\u001b[43mtimeout\u001b[49m\u001b[43m)\u001b[49m\u001b[43m:\u001b[49m\n",
      "File \u001b[1;32m~\\anaconda3\\envs\\dl\\Lib\\contextlib.py:158\u001b[0m, in \u001b[0;36m_GeneratorContextManager.__exit__\u001b[1;34m(self, typ, value, traceback)\u001b[0m\n\u001b[0;32m    157\u001b[0m \u001b[38;5;28;01mtry\u001b[39;00m:\n\u001b[1;32m--> 158\u001b[0m     \u001b[38;5;28;43mself\u001b[39;49m\u001b[38;5;241;43m.\u001b[39;49m\u001b[43mgen\u001b[49m\u001b[38;5;241;43m.\u001b[39;49m\u001b[43mthrow\u001b[49m\u001b[43m(\u001b[49m\u001b[43mvalue\u001b[49m\u001b[43m)\u001b[49m\n\u001b[0;32m    159\u001b[0m \u001b[38;5;28;01mexcept\u001b[39;00m \u001b[38;5;167;01mStopIteration\u001b[39;00m \u001b[38;5;28;01mas\u001b[39;00m exc:\n\u001b[0;32m    160\u001b[0m     \u001b[38;5;66;03m# Suppress StopIteration *unless* it's the same exception that\u001b[39;00m\n\u001b[0;32m    161\u001b[0m     \u001b[38;5;66;03m# was passed to throw().  This prevents a StopIteration\u001b[39;00m\n\u001b[0;32m    162\u001b[0m     \u001b[38;5;66;03m# raised inside the \"with\" statement from being suppressed.\u001b[39;00m\n",
      "File \u001b[1;32m~\\anaconda3\\envs\\dl\\Lib\\site-packages\\httpcore\\_exceptions.py:14\u001b[0m, in \u001b[0;36mmap_exceptions\u001b[1;34m(map)\u001b[0m\n\u001b[0;32m     13\u001b[0m     \u001b[38;5;28;01mif\u001b[39;00m \u001b[38;5;28misinstance\u001b[39m(exc, from_exc):\n\u001b[1;32m---> 14\u001b[0m         \u001b[38;5;28;01mraise\u001b[39;00m to_exc(exc) \u001b[38;5;28;01mfrom\u001b[39;00m \u001b[38;5;21;01mexc\u001b[39;00m\n\u001b[0;32m     15\u001b[0m \u001b[38;5;28;01mraise\u001b[39;00m\n",
      "\u001b[1;31mReadTimeout\u001b[0m: ",
      "\nThe above exception was the direct cause of the following exception:\n",
      "\u001b[1;31mReadTimeout\u001b[0m                               Traceback (most recent call last)",
      "Cell \u001b[1;32mIn[48], line 31\u001b[0m\n\u001b[0;32m     28\u001b[0m corpus_df \u001b[38;5;241m=\u001b[39m pd\u001b[38;5;241m.\u001b[39mread_parquet(\u001b[38;5;124m'\u001b[39m\u001b[38;5;124m./qnaset7.parquet\u001b[39m\u001b[38;5;124m'\u001b[39m)\n\u001b[0;32m     30\u001b[0m llm \u001b[38;5;241m=\u001b[39m Ollama(model\u001b[38;5;241m=\u001b[39m\u001b[38;5;124m'\u001b[39m\u001b[38;5;124mllama3.1:latest\u001b[39m\u001b[38;5;124m'\u001b[39m, temperature\u001b[38;5;241m=\u001b[39m\u001b[38;5;241m0.3\u001b[39m, timeout\u001b[38;5;241m=\u001b[39m\u001b[38;5;241m500\u001b[39m)\n\u001b[1;32m---> 31\u001b[0m qa_df \u001b[38;5;241m=\u001b[39m \u001b[43mmake_single_content_qa\u001b[49m\u001b[43m(\u001b[49m\u001b[43mcorpus_df\u001b[49m\u001b[43m,\u001b[49m\u001b[43m \u001b[49m\u001b[43mcontent_size\u001b[49m\u001b[38;5;241;43m=\u001b[39;49m\u001b[38;5;241;43m460\u001b[39;49m\u001b[43m,\u001b[49m\u001b[43m \u001b[49m\u001b[43mqa_creation_func\u001b[49m\u001b[38;5;241;43m=\u001b[39;49m\u001b[43mgenerate_qa_llama_index\u001b[49m\u001b[43m,\u001b[49m\n\u001b[0;32m     32\u001b[0m \u001b[43m                            \u001b[49m\u001b[43mllm\u001b[49m\u001b[38;5;241;43m=\u001b[39;49m\u001b[43mllm\u001b[49m\u001b[43m,\u001b[49m\u001b[43m \u001b[49m\u001b[43mprompt\u001b[49m\u001b[38;5;241;43m=\u001b[39;49m\u001b[43mprompt\u001b[49m\u001b[43m,\u001b[49m\u001b[43m \u001b[49m\u001b[43mquestion_num_per_content\u001b[49m\u001b[38;5;241;43m=\u001b[39;49m\u001b[38;5;241;43m1\u001b[39;49m\u001b[43m)\u001b[49m\n\u001b[0;32m     34\u001b[0m qa_df\u001b[38;5;241m.\u001b[39mhead()\n",
      "File \u001b[1;32m~\\anaconda3\\envs\\dl\\Lib\\site-packages\\autorag\\data\\qacreation\\base.py:65\u001b[0m, in \u001b[0;36mmake_single_content_qa\u001b[1;34m(corpus_df, content_size, qa_creation_func, output_filepath, upsert, random_state, cache_batch, **kwargs)\u001b[0m\n\u001b[0;32m     63\u001b[0m qa_data \u001b[38;5;241m=\u001b[39m pd\u001b[38;5;241m.\u001b[39mDataFrame()\n\u001b[0;32m     64\u001b[0m \u001b[38;5;28;01mfor\u001b[39;00m idx, i \u001b[38;5;129;01min\u001b[39;00m tqdm(\u001b[38;5;28menumerate\u001b[39m(\u001b[38;5;28mrange\u001b[39m(\u001b[38;5;241m0\u001b[39m, \u001b[38;5;28mlen\u001b[39m(sampled_corpus), cache_batch))):\n\u001b[1;32m---> 65\u001b[0m \tqa \u001b[38;5;241m=\u001b[39m \u001b[43mqa_creation_func\u001b[49m\u001b[43m(\u001b[49m\n\u001b[0;32m     66\u001b[0m \u001b[43m\t\t\u001b[49m\u001b[43mcontents\u001b[49m\u001b[38;5;241;43m=\u001b[39;49m\u001b[43msampled_corpus\u001b[49m\u001b[43m[\u001b[49m\u001b[38;5;124;43m\"\u001b[39;49m\u001b[38;5;124;43mcontents\u001b[39;49m\u001b[38;5;124;43m\"\u001b[39;49m\u001b[43m]\u001b[49m\u001b[38;5;241;43m.\u001b[39;49m\u001b[43mtolist\u001b[49m\u001b[43m(\u001b[49m\u001b[43m)\u001b[49m\u001b[43m[\u001b[49m\u001b[43mi\u001b[49m\u001b[43m \u001b[49m\u001b[43m:\u001b[49m\u001b[43m \u001b[49m\u001b[43mi\u001b[49m\u001b[43m \u001b[49m\u001b[38;5;241;43m+\u001b[39;49m\u001b[43m \u001b[49m\u001b[43mcache_batch\u001b[49m\u001b[43m]\u001b[49m\u001b[43m,\u001b[49m\u001b[43m \u001b[49m\u001b[38;5;241;43m*\u001b[39;49m\u001b[38;5;241;43m*\u001b[39;49m\u001b[43mkwargs\u001b[49m\n\u001b[0;32m     67\u001b[0m \u001b[43m\t\u001b[49m\u001b[43m)\u001b[49m\n\u001b[0;32m     69\u001b[0m \ttemp_qa_data \u001b[38;5;241m=\u001b[39m pd\u001b[38;5;241m.\u001b[39mDataFrame(\n\u001b[0;32m     70\u001b[0m \t\t{\n\u001b[0;32m     71\u001b[0m \t\t\t\u001b[38;5;124m\"\u001b[39m\u001b[38;5;124mqa\u001b[39m\u001b[38;5;124m\"\u001b[39m: qa,\n\u001b[0;32m     72\u001b[0m \t\t\t\u001b[38;5;124m\"\u001b[39m\u001b[38;5;124mretrieval_gt\u001b[39m\u001b[38;5;124m\"\u001b[39m: sampled_corpus[\u001b[38;5;124m\"\u001b[39m\u001b[38;5;124mdoc_id\u001b[39m\u001b[38;5;124m\"\u001b[39m]\u001b[38;5;241m.\u001b[39mtolist()[i : i \u001b[38;5;241m+\u001b[39m cache_batch],\n\u001b[0;32m     73\u001b[0m \t\t}\n\u001b[0;32m     74\u001b[0m \t)\n\u001b[0;32m     75\u001b[0m \ttemp_qa_data \u001b[38;5;241m=\u001b[39m temp_qa_data\u001b[38;5;241m.\u001b[39mexplode(\u001b[38;5;124m\"\u001b[39m\u001b[38;5;124mqa\u001b[39m\u001b[38;5;124m\"\u001b[39m, ignore_index\u001b[38;5;241m=\u001b[39m\u001b[38;5;28;01mTrue\u001b[39;00m)\n",
      "File \u001b[1;32m~\\anaconda3\\envs\\dl\\Lib\\site-packages\\autorag\\data\\qacreation\\llama_index.py:56\u001b[0m, in \u001b[0;36mgenerate_qa_llama_index\u001b[1;34m(llm, contents, prompt, question_num_per_content, max_retries, batch)\u001b[0m\n\u001b[0;32m     49\u001b[0m tasks \u001b[38;5;241m=\u001b[39m [\n\u001b[0;32m     50\u001b[0m \tasync_qa_gen_llama_index(\n\u001b[0;32m     51\u001b[0m \t\tcontent, llm, prompt, question_num_per_content, max_retries\n\u001b[0;32m     52\u001b[0m \t)\n\u001b[0;32m     53\u001b[0m \t\u001b[38;5;28;01mfor\u001b[39;00m content \u001b[38;5;129;01min\u001b[39;00m contents\n\u001b[0;32m     54\u001b[0m ]\n\u001b[0;32m     55\u001b[0m loops \u001b[38;5;241m=\u001b[39m get_event_loop()\n\u001b[1;32m---> 56\u001b[0m results \u001b[38;5;241m=\u001b[39m \u001b[43mloops\u001b[49m\u001b[38;5;241;43m.\u001b[39;49m\u001b[43mrun_until_complete\u001b[49m\u001b[43m(\u001b[49m\u001b[43mprocess_batch\u001b[49m\u001b[43m(\u001b[49m\u001b[43mtasks\u001b[49m\u001b[43m,\u001b[49m\u001b[43m \u001b[49m\u001b[43mbatch\u001b[49m\u001b[43m)\u001b[49m\u001b[43m)\u001b[49m\n\u001b[0;32m     57\u001b[0m \u001b[38;5;28;01mreturn\u001b[39;00m results\n",
      "File \u001b[1;32m~\\anaconda3\\envs\\dl\\Lib\\site-packages\\nest_asyncio.py:98\u001b[0m, in \u001b[0;36m_patch_loop.<locals>.run_until_complete\u001b[1;34m(self, future)\u001b[0m\n\u001b[0;32m     95\u001b[0m \u001b[38;5;28;01mif\u001b[39;00m \u001b[38;5;129;01mnot\u001b[39;00m f\u001b[38;5;241m.\u001b[39mdone():\n\u001b[0;32m     96\u001b[0m     \u001b[38;5;28;01mraise\u001b[39;00m \u001b[38;5;167;01mRuntimeError\u001b[39;00m(\n\u001b[0;32m     97\u001b[0m         \u001b[38;5;124m'\u001b[39m\u001b[38;5;124mEvent loop stopped before Future completed.\u001b[39m\u001b[38;5;124m'\u001b[39m)\n\u001b[1;32m---> 98\u001b[0m \u001b[38;5;28;01mreturn\u001b[39;00m \u001b[43mf\u001b[49m\u001b[38;5;241;43m.\u001b[39;49m\u001b[43mresult\u001b[49m\u001b[43m(\u001b[49m\u001b[43m)\u001b[49m\n",
      "File \u001b[1;32m~\\anaconda3\\envs\\dl\\Lib\\asyncio\\futures.py:203\u001b[0m, in \u001b[0;36mFuture.result\u001b[1;34m(self)\u001b[0m\n\u001b[0;32m    201\u001b[0m \u001b[38;5;28mself\u001b[39m\u001b[38;5;241m.\u001b[39m__log_traceback \u001b[38;5;241m=\u001b[39m \u001b[38;5;28;01mFalse\u001b[39;00m\n\u001b[0;32m    202\u001b[0m \u001b[38;5;28;01mif\u001b[39;00m \u001b[38;5;28mself\u001b[39m\u001b[38;5;241m.\u001b[39m_exception \u001b[38;5;129;01mis\u001b[39;00m \u001b[38;5;129;01mnot\u001b[39;00m \u001b[38;5;28;01mNone\u001b[39;00m:\n\u001b[1;32m--> 203\u001b[0m     \u001b[38;5;28;01mraise\u001b[39;00m \u001b[38;5;28mself\u001b[39m\u001b[38;5;241m.\u001b[39m_exception\u001b[38;5;241m.\u001b[39mwith_traceback(\u001b[38;5;28mself\u001b[39m\u001b[38;5;241m.\u001b[39m_exception_tb)\n\u001b[0;32m    204\u001b[0m \u001b[38;5;28;01mreturn\u001b[39;00m \u001b[38;5;28mself\u001b[39m\u001b[38;5;241m.\u001b[39m_result\n",
      "File \u001b[1;32m~\\anaconda3\\envs\\dl\\Lib\\asyncio\\tasks.py:316\u001b[0m, in \u001b[0;36mTask.__step_run_and_handle_result\u001b[1;34m(***failed resolving arguments***)\u001b[0m\n\u001b[0;32m    314\u001b[0m         result \u001b[38;5;241m=\u001b[39m coro\u001b[38;5;241m.\u001b[39msend(\u001b[38;5;28;01mNone\u001b[39;00m)\n\u001b[0;32m    315\u001b[0m     \u001b[38;5;28;01melse\u001b[39;00m:\n\u001b[1;32m--> 316\u001b[0m         result \u001b[38;5;241m=\u001b[39m \u001b[43mcoro\u001b[49m\u001b[38;5;241;43m.\u001b[39;49m\u001b[43mthrow\u001b[49m\u001b[43m(\u001b[49m\u001b[43mexc\u001b[49m\u001b[43m)\u001b[49m\n\u001b[0;32m    317\u001b[0m \u001b[38;5;28;01mexcept\u001b[39;00m \u001b[38;5;167;01mStopIteration\u001b[39;00m \u001b[38;5;28;01mas\u001b[39;00m exc:\n\u001b[0;32m    318\u001b[0m     \u001b[38;5;28;01mif\u001b[39;00m \u001b[38;5;28mself\u001b[39m\u001b[38;5;241m.\u001b[39m_must_cancel:\n\u001b[0;32m    319\u001b[0m         \u001b[38;5;66;03m# Task is cancelled right before coro stops.\u001b[39;00m\n",
      "File \u001b[1;32m~\\anaconda3\\envs\\dl\\Lib\\site-packages\\autorag\\utils\\util.py:296\u001b[0m, in \u001b[0;36mprocess_batch\u001b[1;34m(tasks, batch_size)\u001b[0m\n\u001b[0;32m    294\u001b[0m \u001b[38;5;28;01mfor\u001b[39;00m i \u001b[38;5;129;01min\u001b[39;00m \u001b[38;5;28mrange\u001b[39m(\u001b[38;5;241m0\u001b[39m, \u001b[38;5;28mlen\u001b[39m(tasks), batch_size):\n\u001b[0;32m    295\u001b[0m \tbatch \u001b[38;5;241m=\u001b[39m tasks[i : i \u001b[38;5;241m+\u001b[39m batch_size]\n\u001b[1;32m--> 296\u001b[0m \tbatch_results \u001b[38;5;241m=\u001b[39m \u001b[38;5;28;01mawait\u001b[39;00m asyncio\u001b[38;5;241m.\u001b[39mgather(\u001b[38;5;241m*\u001b[39mbatch)\n\u001b[0;32m    297\u001b[0m \tresults\u001b[38;5;241m.\u001b[39mextend(batch_results)\n\u001b[0;32m    299\u001b[0m \u001b[38;5;28;01mreturn\u001b[39;00m results\n",
      "File \u001b[1;32m~\\anaconda3\\envs\\dl\\Lib\\asyncio\\tasks.py:385\u001b[0m, in \u001b[0;36mTask.__wakeup\u001b[1;34m(self, future)\u001b[0m\n\u001b[0;32m    383\u001b[0m \u001b[38;5;28;01mdef\u001b[39;00m \u001b[38;5;21m__wakeup\u001b[39m(\u001b[38;5;28mself\u001b[39m, future):\n\u001b[0;32m    384\u001b[0m     \u001b[38;5;28;01mtry\u001b[39;00m:\n\u001b[1;32m--> 385\u001b[0m         \u001b[43mfuture\u001b[49m\u001b[38;5;241;43m.\u001b[39;49m\u001b[43mresult\u001b[49m\u001b[43m(\u001b[49m\u001b[43m)\u001b[49m\n\u001b[0;32m    386\u001b[0m     \u001b[38;5;28;01mexcept\u001b[39;00m \u001b[38;5;167;01mBaseException\u001b[39;00m \u001b[38;5;28;01mas\u001b[39;00m exc:\n\u001b[0;32m    387\u001b[0m         \u001b[38;5;66;03m# This may also be a cancellation.\u001b[39;00m\n\u001b[0;32m    388\u001b[0m         \u001b[38;5;28mself\u001b[39m\u001b[38;5;241m.\u001b[39m__step(exc)\n",
      "File \u001b[1;32m~\\anaconda3\\envs\\dl\\Lib\\asyncio\\tasks.py:314\u001b[0m, in \u001b[0;36mTask.__step_run_and_handle_result\u001b[1;34m(***failed resolving arguments***)\u001b[0m\n\u001b[0;32m    310\u001b[0m \u001b[38;5;28;01mtry\u001b[39;00m:\n\u001b[0;32m    311\u001b[0m     \u001b[38;5;28;01mif\u001b[39;00m exc \u001b[38;5;129;01mis\u001b[39;00m \u001b[38;5;28;01mNone\u001b[39;00m:\n\u001b[0;32m    312\u001b[0m         \u001b[38;5;66;03m# We use the `send` method directly, because coroutines\u001b[39;00m\n\u001b[0;32m    313\u001b[0m         \u001b[38;5;66;03m# don't have `__iter__` and `__next__` methods.\u001b[39;00m\n\u001b[1;32m--> 314\u001b[0m         result \u001b[38;5;241m=\u001b[39m \u001b[43mcoro\u001b[49m\u001b[38;5;241;43m.\u001b[39;49m\u001b[43msend\u001b[49m\u001b[43m(\u001b[49m\u001b[38;5;28;43;01mNone\u001b[39;49;00m\u001b[43m)\u001b[49m\n\u001b[0;32m    315\u001b[0m     \u001b[38;5;28;01melse\u001b[39;00m:\n\u001b[0;32m    316\u001b[0m         result \u001b[38;5;241m=\u001b[39m coro\u001b[38;5;241m.\u001b[39mthrow(exc)\n",
      "File \u001b[1;32m~\\anaconda3\\envs\\dl\\Lib\\site-packages\\autorag\\data\\qacreation\\llama_index.py:187\u001b[0m, in \u001b[0;36masync_qa_gen_llama_index\u001b[1;34m(content, llm, prompt, question_num, max_retries)\u001b[0m\n\u001b[0;32m    182\u001b[0m \t\t\t\u001b[38;5;28;01mreturn\u001b[39;00m result\n\u001b[0;32m    183\u001b[0m \t\u001b[38;5;28;01mraise\u001b[39;00m \u001b[38;5;167;01mInterruptedError\u001b[39;00m(\n\u001b[0;32m    184\u001b[0m \t\t\u001b[38;5;124mf\u001b[39m\u001b[38;5;124m\"\u001b[39m\u001b[38;5;124mFailed to generate output of length \u001b[39m\u001b[38;5;132;01m{\u001b[39;00mquestion_num\u001b[38;5;132;01m}\u001b[39;00m\u001b[38;5;124m after \u001b[39m\u001b[38;5;132;01m{\u001b[39;00mmax_retries\u001b[38;5;132;01m}\u001b[39;00m\u001b[38;5;124m retries.\u001b[39m\u001b[38;5;124m\"\u001b[39m\n\u001b[0;32m    185\u001b[0m \t)\n\u001b[1;32m--> 187\u001b[0m \u001b[38;5;28;01mreturn\u001b[39;00m \u001b[38;5;28;01mawait\u001b[39;00m generate(content, llm)\n",
      "File \u001b[1;32m~\\anaconda3\\envs\\dl\\Lib\\site-packages\\autorag\\data\\qacreation\\llama_index.py:175\u001b[0m, in \u001b[0;36masync_qa_gen_llama_index.<locals>.generate\u001b[1;34m(content, llm)\u001b[0m\n\u001b[0;32m    173\u001b[0m \u001b[38;5;28;01masync\u001b[39;00m \u001b[38;5;28;01mdef\u001b[39;00m \u001b[38;5;21mgenerate\u001b[39m(content: \u001b[38;5;28mstr\u001b[39m, llm: LLM):\n\u001b[0;32m    174\u001b[0m \t\u001b[38;5;28;01mfor\u001b[39;00m _ \u001b[38;5;129;01min\u001b[39;00m \u001b[38;5;28mrange\u001b[39m(max_retries):\n\u001b[1;32m--> 175\u001b[0m \t\toutput \u001b[38;5;241m=\u001b[39m \u001b[38;5;28;01mawait\u001b[39;00m llm\u001b[38;5;241m.\u001b[39macomplete(\n\u001b[0;32m    176\u001b[0m \t\t\tprompt\u001b[38;5;241m.\u001b[39mreplace(\u001b[38;5;124m\"\u001b[39m\u001b[38;5;124m{{\u001b[39m\u001b[38;5;124mtext}}\u001b[39m\u001b[38;5;124m\"\u001b[39m, content)\u001b[38;5;241m.\u001b[39mreplace(\n\u001b[0;32m    177\u001b[0m \t\t\t\t\u001b[38;5;124m\"\u001b[39m\u001b[38;5;124m{{\u001b[39m\u001b[38;5;124mnum_questions}}\u001b[39m\u001b[38;5;124m\"\u001b[39m, \u001b[38;5;28mstr\u001b[39m(question_num)\n\u001b[0;32m    178\u001b[0m \t\t\t)\n\u001b[0;32m    179\u001b[0m \t\t)\n\u001b[0;32m    180\u001b[0m \t\tresult \u001b[38;5;241m=\u001b[39m parse_output(output\u001b[38;5;241m.\u001b[39mtext)\n\u001b[0;32m    181\u001b[0m \t\t\u001b[38;5;28;01mif\u001b[39;00m \u001b[38;5;28mlen\u001b[39m(result) \u001b[38;5;241m==\u001b[39m question_num:\n",
      "File \u001b[1;32m~\\anaconda3\\envs\\dl\\Lib\\site-packages\\llama_index\\core\\instrumentation\\dispatcher.py:297\u001b[0m, in \u001b[0;36mDispatcher.span.<locals>.async_wrapper\u001b[1;34m(func, instance, args, kwargs)\u001b[0m\n\u001b[0;32m    289\u001b[0m \u001b[38;5;28mself\u001b[39m\u001b[38;5;241m.\u001b[39mspan_enter(\n\u001b[0;32m    290\u001b[0m     id_\u001b[38;5;241m=\u001b[39mid_,\n\u001b[0;32m    291\u001b[0m     bound_args\u001b[38;5;241m=\u001b[39mbound_args,\n\u001b[1;32m   (...)\u001b[0m\n\u001b[0;32m    294\u001b[0m     tags\u001b[38;5;241m=\u001b[39mtags,\n\u001b[0;32m    295\u001b[0m )\n\u001b[0;32m    296\u001b[0m \u001b[38;5;28;01mtry\u001b[39;00m:\n\u001b[1;32m--> 297\u001b[0m     result \u001b[38;5;241m=\u001b[39m \u001b[38;5;28;01mawait\u001b[39;00m func(\u001b[38;5;241m*\u001b[39margs, \u001b[38;5;241m*\u001b[39m\u001b[38;5;241m*\u001b[39mkwargs)\n\u001b[0;32m    298\u001b[0m \u001b[38;5;28;01mexcept\u001b[39;00m \u001b[38;5;167;01mBaseException\u001b[39;00m \u001b[38;5;28;01mas\u001b[39;00m e:\n\u001b[0;32m    299\u001b[0m     \u001b[38;5;28mself\u001b[39m\u001b[38;5;241m.\u001b[39mevent(SpanDropEvent(span_id\u001b[38;5;241m=\u001b[39mid_, err_str\u001b[38;5;241m=\u001b[39m\u001b[38;5;28mstr\u001b[39m(e)))\n",
      "File \u001b[1;32m~\\anaconda3\\envs\\dl\\Lib\\site-packages\\llama_index\\core\\llms\\callbacks.py:334\u001b[0m, in \u001b[0;36mllm_completion_callback.<locals>.wrap.<locals>.wrapped_async_llm_predict\u001b[1;34m(_self, *args, **kwargs)\u001b[0m\n\u001b[0;32m    324\u001b[0m event_id \u001b[38;5;241m=\u001b[39m callback_manager\u001b[38;5;241m.\u001b[39mon_event_start(\n\u001b[0;32m    325\u001b[0m     CBEventType\u001b[38;5;241m.\u001b[39mLLM,\n\u001b[0;32m    326\u001b[0m     payload\u001b[38;5;241m=\u001b[39m{\n\u001b[1;32m   (...)\u001b[0m\n\u001b[0;32m    330\u001b[0m     },\n\u001b[0;32m    331\u001b[0m )\n\u001b[0;32m    333\u001b[0m \u001b[38;5;28;01mtry\u001b[39;00m:\n\u001b[1;32m--> 334\u001b[0m     f_return_val \u001b[38;5;241m=\u001b[39m \u001b[38;5;28;01mawait\u001b[39;00m f(_self, \u001b[38;5;241m*\u001b[39margs, \u001b[38;5;241m*\u001b[39m\u001b[38;5;241m*\u001b[39mkwargs)\n\u001b[0;32m    335\u001b[0m \u001b[38;5;28;01mexcept\u001b[39;00m \u001b[38;5;167;01mBaseException\u001b[39;00m \u001b[38;5;28;01mas\u001b[39;00m e:\n\u001b[0;32m    336\u001b[0m     callback_manager\u001b[38;5;241m.\u001b[39mon_event_end(\n\u001b[0;32m    337\u001b[0m         CBEventType\u001b[38;5;241m.\u001b[39mLLM,\n\u001b[0;32m    338\u001b[0m         payload\u001b[38;5;241m=\u001b[39m{EventPayload\u001b[38;5;241m.\u001b[39mEXCEPTION: e},\n\u001b[0;32m    339\u001b[0m         event_id\u001b[38;5;241m=\u001b[39mevent_id,\n\u001b[0;32m    340\u001b[0m     )\n",
      "File \u001b[1;32m~\\anaconda3\\envs\\dl\\Lib\\site-packages\\llama_index\\llms\\ollama\\base.py:425\u001b[0m, in \u001b[0;36mOllama.acomplete\u001b[1;34m(self, prompt, formatted, **kwargs)\u001b[0m\n\u001b[0;32m    421\u001b[0m \u001b[38;5;129m@llm_completion_callback\u001b[39m()\n\u001b[0;32m    422\u001b[0m \u001b[38;5;28;01masync\u001b[39;00m \u001b[38;5;28;01mdef\u001b[39;00m \u001b[38;5;21macomplete\u001b[39m(\n\u001b[0;32m    423\u001b[0m     \u001b[38;5;28mself\u001b[39m, prompt: \u001b[38;5;28mstr\u001b[39m, formatted: \u001b[38;5;28mbool\u001b[39m \u001b[38;5;241m=\u001b[39m \u001b[38;5;28;01mFalse\u001b[39;00m, \u001b[38;5;241m*\u001b[39m\u001b[38;5;241m*\u001b[39mkwargs: Any\n\u001b[0;32m    424\u001b[0m ) \u001b[38;5;241m-\u001b[39m\u001b[38;5;241m>\u001b[39m CompletionResponse:\n\u001b[1;32m--> 425\u001b[0m     \u001b[38;5;28;01mreturn\u001b[39;00m \u001b[38;5;28;01mawait\u001b[39;00m achat_to_completion_decorator(\u001b[38;5;28mself\u001b[39m\u001b[38;5;241m.\u001b[39machat)(prompt, \u001b[38;5;241m*\u001b[39m\u001b[38;5;241m*\u001b[39mkwargs)\n",
      "File \u001b[1;32m~\\anaconda3\\envs\\dl\\Lib\\site-packages\\llama_index\\core\\base\\llms\\generic_utils.py:221\u001b[0m, in \u001b[0;36machat_to_completion_decorator.<locals>.wrapper\u001b[1;34m(prompt, **kwargs)\u001b[0m\n\u001b[0;32m    218\u001b[0m \u001b[38;5;28;01masync\u001b[39;00m \u001b[38;5;28;01mdef\u001b[39;00m \u001b[38;5;21mwrapper\u001b[39m(prompt: \u001b[38;5;28mstr\u001b[39m, \u001b[38;5;241m*\u001b[39m\u001b[38;5;241m*\u001b[39mkwargs: Any) \u001b[38;5;241m-\u001b[39m\u001b[38;5;241m>\u001b[39m CompletionResponse:\n\u001b[0;32m    219\u001b[0m     \u001b[38;5;66;03m# normalize input\u001b[39;00m\n\u001b[0;32m    220\u001b[0m     messages \u001b[38;5;241m=\u001b[39m prompt_to_messages(prompt)\n\u001b[1;32m--> 221\u001b[0m     chat_response \u001b[38;5;241m=\u001b[39m \u001b[38;5;28;01mawait\u001b[39;00m func(messages, \u001b[38;5;241m*\u001b[39m\u001b[38;5;241m*\u001b[39mkwargs)\n\u001b[0;32m    222\u001b[0m     \u001b[38;5;66;03m# normalize output\u001b[39;00m\n\u001b[0;32m    223\u001b[0m     \u001b[38;5;28;01mreturn\u001b[39;00m chat_response_to_completion_response(chat_response)\n",
      "File \u001b[1;32m~\\anaconda3\\envs\\dl\\Lib\\site-packages\\llama_index\\core\\instrumentation\\dispatcher.py:297\u001b[0m, in \u001b[0;36mDispatcher.span.<locals>.async_wrapper\u001b[1;34m(func, instance, args, kwargs)\u001b[0m\n\u001b[0;32m    289\u001b[0m \u001b[38;5;28mself\u001b[39m\u001b[38;5;241m.\u001b[39mspan_enter(\n\u001b[0;32m    290\u001b[0m     id_\u001b[38;5;241m=\u001b[39mid_,\n\u001b[0;32m    291\u001b[0m     bound_args\u001b[38;5;241m=\u001b[39mbound_args,\n\u001b[1;32m   (...)\u001b[0m\n\u001b[0;32m    294\u001b[0m     tags\u001b[38;5;241m=\u001b[39mtags,\n\u001b[0;32m    295\u001b[0m )\n\u001b[0;32m    296\u001b[0m \u001b[38;5;28;01mtry\u001b[39;00m:\n\u001b[1;32m--> 297\u001b[0m     result \u001b[38;5;241m=\u001b[39m \u001b[38;5;28;01mawait\u001b[39;00m func(\u001b[38;5;241m*\u001b[39margs, \u001b[38;5;241m*\u001b[39m\u001b[38;5;241m*\u001b[39mkwargs)\n\u001b[0;32m    298\u001b[0m \u001b[38;5;28;01mexcept\u001b[39;00m \u001b[38;5;167;01mBaseException\u001b[39;00m \u001b[38;5;28;01mas\u001b[39;00m e:\n\u001b[0;32m    299\u001b[0m     \u001b[38;5;28mself\u001b[39m\u001b[38;5;241m.\u001b[39mevent(SpanDropEvent(span_id\u001b[38;5;241m=\u001b[39mid_, err_str\u001b[38;5;241m=\u001b[39m\u001b[38;5;28mstr\u001b[39m(e)))\n",
      "File \u001b[1;32m~\\anaconda3\\envs\\dl\\Lib\\site-packages\\llama_index\\core\\llms\\callbacks.py:75\u001b[0m, in \u001b[0;36mllm_chat_callback.<locals>.wrap.<locals>.wrapped_async_llm_chat\u001b[1;34m(_self, messages, **kwargs)\u001b[0m\n\u001b[0;32m     66\u001b[0m event_id \u001b[38;5;241m=\u001b[39m callback_manager\u001b[38;5;241m.\u001b[39mon_event_start(\n\u001b[0;32m     67\u001b[0m     CBEventType\u001b[38;5;241m.\u001b[39mLLM,\n\u001b[0;32m     68\u001b[0m     payload\u001b[38;5;241m=\u001b[39m{\n\u001b[1;32m   (...)\u001b[0m\n\u001b[0;32m     72\u001b[0m     },\n\u001b[0;32m     73\u001b[0m )\n\u001b[0;32m     74\u001b[0m \u001b[38;5;28;01mtry\u001b[39;00m:\n\u001b[1;32m---> 75\u001b[0m     f_return_val \u001b[38;5;241m=\u001b[39m \u001b[38;5;28;01mawait\u001b[39;00m f(_self, messages, \u001b[38;5;241m*\u001b[39m\u001b[38;5;241m*\u001b[39mkwargs)\n\u001b[0;32m     76\u001b[0m \u001b[38;5;28;01mexcept\u001b[39;00m \u001b[38;5;167;01mBaseException\u001b[39;00m \u001b[38;5;28;01mas\u001b[39;00m e:\n\u001b[0;32m     77\u001b[0m     callback_manager\u001b[38;5;241m.\u001b[39mon_event_end(\n\u001b[0;32m     78\u001b[0m         CBEventType\u001b[38;5;241m.\u001b[39mLLM,\n\u001b[0;32m     79\u001b[0m         payload\u001b[38;5;241m=\u001b[39m{EventPayload\u001b[38;5;241m.\u001b[39mEXCEPTION: e},\n\u001b[0;32m     80\u001b[0m         event_id\u001b[38;5;241m=\u001b[39mevent_id,\n\u001b[0;32m     81\u001b[0m     )\n",
      "File \u001b[1;32m~\\anaconda3\\envs\\dl\\Lib\\site-packages\\llama_index\\llms\\ollama\\base.py:392\u001b[0m, in \u001b[0;36mOllama.achat\u001b[1;34m(self, messages, **kwargs)\u001b[0m\n\u001b[0;32m    388\u001b[0m ollama_messages \u001b[38;5;241m=\u001b[39m \u001b[38;5;28mself\u001b[39m\u001b[38;5;241m.\u001b[39m_convert_to_ollama_messages(messages)\n\u001b[0;32m    390\u001b[0m tools \u001b[38;5;241m=\u001b[39m kwargs\u001b[38;5;241m.\u001b[39mpop(\u001b[38;5;124m\"\u001b[39m\u001b[38;5;124mtools\u001b[39m\u001b[38;5;124m\"\u001b[39m, \u001b[38;5;28;01mNone\u001b[39;00m)\n\u001b[1;32m--> 392\u001b[0m response \u001b[38;5;241m=\u001b[39m \u001b[38;5;28;01mawait\u001b[39;00m \u001b[38;5;28mself\u001b[39m\u001b[38;5;241m.\u001b[39masync_client\u001b[38;5;241m.\u001b[39mchat(\n\u001b[0;32m    393\u001b[0m     model\u001b[38;5;241m=\u001b[39m\u001b[38;5;28mself\u001b[39m\u001b[38;5;241m.\u001b[39mmodel,\n\u001b[0;32m    394\u001b[0m     messages\u001b[38;5;241m=\u001b[39mollama_messages,\n\u001b[0;32m    395\u001b[0m     stream\u001b[38;5;241m=\u001b[39m\u001b[38;5;28;01mFalse\u001b[39;00m,\n\u001b[0;32m    396\u001b[0m     \u001b[38;5;28mformat\u001b[39m\u001b[38;5;241m=\u001b[39m\u001b[38;5;124m\"\u001b[39m\u001b[38;5;124mjson\u001b[39m\u001b[38;5;124m\"\u001b[39m \u001b[38;5;28;01mif\u001b[39;00m \u001b[38;5;28mself\u001b[39m\u001b[38;5;241m.\u001b[39mjson_mode \u001b[38;5;28;01melse\u001b[39;00m \u001b[38;5;124m\"\u001b[39m\u001b[38;5;124m\"\u001b[39m,\n\u001b[0;32m    397\u001b[0m     tools\u001b[38;5;241m=\u001b[39mtools,\n\u001b[0;32m    398\u001b[0m     options\u001b[38;5;241m=\u001b[39m\u001b[38;5;28mself\u001b[39m\u001b[38;5;241m.\u001b[39m_model_kwargs,\n\u001b[0;32m    399\u001b[0m )\n\u001b[0;32m    401\u001b[0m tool_calls \u001b[38;5;241m=\u001b[39m response[\u001b[38;5;124m\"\u001b[39m\u001b[38;5;124mmessage\u001b[39m\u001b[38;5;124m\"\u001b[39m]\u001b[38;5;241m.\u001b[39mget(\u001b[38;5;124m\"\u001b[39m\u001b[38;5;124mtool_calls\u001b[39m\u001b[38;5;124m\"\u001b[39m, [])\n\u001b[0;32m    402\u001b[0m token_counts \u001b[38;5;241m=\u001b[39m \u001b[38;5;28mself\u001b[39m\u001b[38;5;241m.\u001b[39m_get_response_token_counts(response)\n",
      "File \u001b[1;32m~\\anaconda3\\envs\\dl\\Lib\\site-packages\\ollama\\_client.py:654\u001b[0m, in \u001b[0;36mAsyncClient.chat\u001b[1;34m(self, model, messages, tools, stream, format, options, keep_alive)\u001b[0m\n\u001b[0;32m    651\u001b[0m   \u001b[38;5;28;01mif\u001b[39;00m images \u001b[38;5;241m:=\u001b[39m message\u001b[38;5;241m.\u001b[39mget(\u001b[38;5;124m'\u001b[39m\u001b[38;5;124mimages\u001b[39m\u001b[38;5;124m'\u001b[39m):\n\u001b[0;32m    652\u001b[0m     message[\u001b[38;5;124m'\u001b[39m\u001b[38;5;124mimages\u001b[39m\u001b[38;5;124m'\u001b[39m] \u001b[38;5;241m=\u001b[39m [_encode_image(image) \u001b[38;5;28;01mfor\u001b[39;00m image \u001b[38;5;129;01min\u001b[39;00m images]\n\u001b[1;32m--> 654\u001b[0m \u001b[38;5;28;01mreturn\u001b[39;00m \u001b[38;5;28;01mawait\u001b[39;00m \u001b[38;5;28mself\u001b[39m\u001b[38;5;241m.\u001b[39m_request_stream(\n\u001b[0;32m    655\u001b[0m   \u001b[38;5;124m'\u001b[39m\u001b[38;5;124mPOST\u001b[39m\u001b[38;5;124m'\u001b[39m,\n\u001b[0;32m    656\u001b[0m   \u001b[38;5;124m'\u001b[39m\u001b[38;5;124m/api/chat\u001b[39m\u001b[38;5;124m'\u001b[39m,\n\u001b[0;32m    657\u001b[0m   json\u001b[38;5;241m=\u001b[39m{\n\u001b[0;32m    658\u001b[0m     \u001b[38;5;124m'\u001b[39m\u001b[38;5;124mmodel\u001b[39m\u001b[38;5;124m'\u001b[39m: model,\n\u001b[0;32m    659\u001b[0m     \u001b[38;5;124m'\u001b[39m\u001b[38;5;124mmessages\u001b[39m\u001b[38;5;124m'\u001b[39m: messages,\n\u001b[0;32m    660\u001b[0m     \u001b[38;5;124m'\u001b[39m\u001b[38;5;124mtools\u001b[39m\u001b[38;5;124m'\u001b[39m: tools \u001b[38;5;129;01mor\u001b[39;00m [],\n\u001b[0;32m    661\u001b[0m     \u001b[38;5;124m'\u001b[39m\u001b[38;5;124mstream\u001b[39m\u001b[38;5;124m'\u001b[39m: stream,\n\u001b[0;32m    662\u001b[0m     \u001b[38;5;124m'\u001b[39m\u001b[38;5;124mformat\u001b[39m\u001b[38;5;124m'\u001b[39m: \u001b[38;5;28mformat\u001b[39m,\n\u001b[0;32m    663\u001b[0m     \u001b[38;5;124m'\u001b[39m\u001b[38;5;124moptions\u001b[39m\u001b[38;5;124m'\u001b[39m: options \u001b[38;5;129;01mor\u001b[39;00m {},\n\u001b[0;32m    664\u001b[0m     \u001b[38;5;124m'\u001b[39m\u001b[38;5;124mkeep_alive\u001b[39m\u001b[38;5;124m'\u001b[39m: keep_alive,\n\u001b[0;32m    665\u001b[0m   },\n\u001b[0;32m    666\u001b[0m   stream\u001b[38;5;241m=\u001b[39mstream,\n\u001b[0;32m    667\u001b[0m )\n",
      "File \u001b[1;32m~\\anaconda3\\envs\\dl\\Lib\\site-packages\\ollama\\_client.py:518\u001b[0m, in \u001b[0;36mAsyncClient._request_stream\u001b[1;34m(self, stream, *args, **kwargs)\u001b[0m\n\u001b[0;32m    515\u001b[0m \u001b[38;5;28;01mif\u001b[39;00m stream:\n\u001b[0;32m    516\u001b[0m   \u001b[38;5;28;01mreturn\u001b[39;00m \u001b[38;5;28;01mawait\u001b[39;00m \u001b[38;5;28mself\u001b[39m\u001b[38;5;241m.\u001b[39m_stream(\u001b[38;5;241m*\u001b[39margs, \u001b[38;5;241m*\u001b[39m\u001b[38;5;241m*\u001b[39mkwargs)\n\u001b[1;32m--> 518\u001b[0m response \u001b[38;5;241m=\u001b[39m \u001b[38;5;28;01mawait\u001b[39;00m \u001b[38;5;28mself\u001b[39m\u001b[38;5;241m.\u001b[39m_request(\u001b[38;5;241m*\u001b[39margs, \u001b[38;5;241m*\u001b[39m\u001b[38;5;241m*\u001b[39mkwargs)\n\u001b[0;32m    519\u001b[0m \u001b[38;5;28;01mreturn\u001b[39;00m response\u001b[38;5;241m.\u001b[39mjson()\n",
      "File \u001b[1;32m~\\anaconda3\\envs\\dl\\Lib\\site-packages\\ollama\\_client.py:483\u001b[0m, in \u001b[0;36mAsyncClient._request\u001b[1;34m(self, method, url, **kwargs)\u001b[0m\n\u001b[0;32m    482\u001b[0m \u001b[38;5;28;01masync\u001b[39;00m \u001b[38;5;28;01mdef\u001b[39;00m \u001b[38;5;21m_request\u001b[39m(\u001b[38;5;28mself\u001b[39m, method: \u001b[38;5;28mstr\u001b[39m, url: \u001b[38;5;28mstr\u001b[39m, \u001b[38;5;241m*\u001b[39m\u001b[38;5;241m*\u001b[39mkwargs) \u001b[38;5;241m-\u001b[39m\u001b[38;5;241m>\u001b[39m httpx\u001b[38;5;241m.\u001b[39mResponse:\n\u001b[1;32m--> 483\u001b[0m   response \u001b[38;5;241m=\u001b[39m \u001b[38;5;28;01mawait\u001b[39;00m \u001b[38;5;28mself\u001b[39m\u001b[38;5;241m.\u001b[39m_client\u001b[38;5;241m.\u001b[39mrequest(method, url, \u001b[38;5;241m*\u001b[39m\u001b[38;5;241m*\u001b[39mkwargs)\n\u001b[0;32m    485\u001b[0m   \u001b[38;5;28;01mtry\u001b[39;00m:\n\u001b[0;32m    486\u001b[0m     response\u001b[38;5;241m.\u001b[39mraise_for_status()\n",
      "File \u001b[1;32m~\\anaconda3\\envs\\dl\\Lib\\site-packages\\httpx\\_client.py:1574\u001b[0m, in \u001b[0;36mAsyncClient.request\u001b[1;34m(self, method, url, content, data, files, json, params, headers, cookies, auth, follow_redirects, timeout, extensions)\u001b[0m\n\u001b[0;32m   1559\u001b[0m     warnings\u001b[38;5;241m.\u001b[39mwarn(message, \u001b[38;5;167;01mDeprecationWarning\u001b[39;00m)\n\u001b[0;32m   1561\u001b[0m request \u001b[38;5;241m=\u001b[39m \u001b[38;5;28mself\u001b[39m\u001b[38;5;241m.\u001b[39mbuild_request(\n\u001b[0;32m   1562\u001b[0m     method\u001b[38;5;241m=\u001b[39mmethod,\n\u001b[0;32m   1563\u001b[0m     url\u001b[38;5;241m=\u001b[39murl,\n\u001b[1;32m   (...)\u001b[0m\n\u001b[0;32m   1572\u001b[0m     extensions\u001b[38;5;241m=\u001b[39mextensions,\n\u001b[0;32m   1573\u001b[0m )\n\u001b[1;32m-> 1574\u001b[0m \u001b[38;5;28;01mreturn\u001b[39;00m \u001b[38;5;28;01mawait\u001b[39;00m \u001b[38;5;28mself\u001b[39m\u001b[38;5;241m.\u001b[39msend(request, auth\u001b[38;5;241m=\u001b[39mauth, follow_redirects\u001b[38;5;241m=\u001b[39mfollow_redirects)\n",
      "File \u001b[1;32m~\\anaconda3\\envs\\dl\\Lib\\site-packages\\httpx\\_client.py:1661\u001b[0m, in \u001b[0;36mAsyncClient.send\u001b[1;34m(self, request, stream, auth, follow_redirects)\u001b[0m\n\u001b[0;32m   1653\u001b[0m follow_redirects \u001b[38;5;241m=\u001b[39m (\n\u001b[0;32m   1654\u001b[0m     \u001b[38;5;28mself\u001b[39m\u001b[38;5;241m.\u001b[39mfollow_redirects\n\u001b[0;32m   1655\u001b[0m     \u001b[38;5;28;01mif\u001b[39;00m \u001b[38;5;28misinstance\u001b[39m(follow_redirects, UseClientDefault)\n\u001b[0;32m   1656\u001b[0m     \u001b[38;5;28;01melse\u001b[39;00m follow_redirects\n\u001b[0;32m   1657\u001b[0m )\n\u001b[0;32m   1659\u001b[0m auth \u001b[38;5;241m=\u001b[39m \u001b[38;5;28mself\u001b[39m\u001b[38;5;241m.\u001b[39m_build_request_auth(request, auth)\n\u001b[1;32m-> 1661\u001b[0m response \u001b[38;5;241m=\u001b[39m \u001b[38;5;28;01mawait\u001b[39;00m \u001b[38;5;28mself\u001b[39m\u001b[38;5;241m.\u001b[39m_send_handling_auth(\n\u001b[0;32m   1662\u001b[0m     request,\n\u001b[0;32m   1663\u001b[0m     auth\u001b[38;5;241m=\u001b[39mauth,\n\u001b[0;32m   1664\u001b[0m     follow_redirects\u001b[38;5;241m=\u001b[39mfollow_redirects,\n\u001b[0;32m   1665\u001b[0m     history\u001b[38;5;241m=\u001b[39m[],\n\u001b[0;32m   1666\u001b[0m )\n\u001b[0;32m   1667\u001b[0m \u001b[38;5;28;01mtry\u001b[39;00m:\n\u001b[0;32m   1668\u001b[0m     \u001b[38;5;28;01mif\u001b[39;00m \u001b[38;5;129;01mnot\u001b[39;00m stream:\n",
      "File \u001b[1;32m~\\anaconda3\\envs\\dl\\Lib\\site-packages\\httpx\\_client.py:1689\u001b[0m, in \u001b[0;36mAsyncClient._send_handling_auth\u001b[1;34m(self, request, auth, follow_redirects, history)\u001b[0m\n\u001b[0;32m   1686\u001b[0m request \u001b[38;5;241m=\u001b[39m \u001b[38;5;28;01mawait\u001b[39;00m auth_flow\u001b[38;5;241m.\u001b[39m\u001b[38;5;21m__anext__\u001b[39m()\n\u001b[0;32m   1688\u001b[0m \u001b[38;5;28;01mwhile\u001b[39;00m \u001b[38;5;28;01mTrue\u001b[39;00m:\n\u001b[1;32m-> 1689\u001b[0m     response \u001b[38;5;241m=\u001b[39m \u001b[38;5;28;01mawait\u001b[39;00m \u001b[38;5;28mself\u001b[39m\u001b[38;5;241m.\u001b[39m_send_handling_redirects(\n\u001b[0;32m   1690\u001b[0m         request,\n\u001b[0;32m   1691\u001b[0m         follow_redirects\u001b[38;5;241m=\u001b[39mfollow_redirects,\n\u001b[0;32m   1692\u001b[0m         history\u001b[38;5;241m=\u001b[39mhistory,\n\u001b[0;32m   1693\u001b[0m     )\n\u001b[0;32m   1694\u001b[0m     \u001b[38;5;28;01mtry\u001b[39;00m:\n\u001b[0;32m   1695\u001b[0m         \u001b[38;5;28;01mtry\u001b[39;00m:\n",
      "File \u001b[1;32m~\\anaconda3\\envs\\dl\\Lib\\site-packages\\httpx\\_client.py:1726\u001b[0m, in \u001b[0;36mAsyncClient._send_handling_redirects\u001b[1;34m(self, request, follow_redirects, history)\u001b[0m\n\u001b[0;32m   1723\u001b[0m \u001b[38;5;28;01mfor\u001b[39;00m hook \u001b[38;5;129;01min\u001b[39;00m \u001b[38;5;28mself\u001b[39m\u001b[38;5;241m.\u001b[39m_event_hooks[\u001b[38;5;124m\"\u001b[39m\u001b[38;5;124mrequest\u001b[39m\u001b[38;5;124m\"\u001b[39m]:\n\u001b[0;32m   1724\u001b[0m     \u001b[38;5;28;01mawait\u001b[39;00m hook(request)\n\u001b[1;32m-> 1726\u001b[0m response \u001b[38;5;241m=\u001b[39m \u001b[38;5;28;01mawait\u001b[39;00m \u001b[38;5;28mself\u001b[39m\u001b[38;5;241m.\u001b[39m_send_single_request(request)\n\u001b[0;32m   1727\u001b[0m \u001b[38;5;28;01mtry\u001b[39;00m:\n\u001b[0;32m   1728\u001b[0m     \u001b[38;5;28;01mfor\u001b[39;00m hook \u001b[38;5;129;01min\u001b[39;00m \u001b[38;5;28mself\u001b[39m\u001b[38;5;241m.\u001b[39m_event_hooks[\u001b[38;5;124m\"\u001b[39m\u001b[38;5;124mresponse\u001b[39m\u001b[38;5;124m\"\u001b[39m]:\n",
      "File \u001b[1;32m~\\anaconda3\\envs\\dl\\Lib\\site-packages\\httpx\\_client.py:1763\u001b[0m, in \u001b[0;36mAsyncClient._send_single_request\u001b[1;34m(self, request)\u001b[0m\n\u001b[0;32m   1758\u001b[0m     \u001b[38;5;28;01mraise\u001b[39;00m \u001b[38;5;167;01mRuntimeError\u001b[39;00m(\n\u001b[0;32m   1759\u001b[0m         \u001b[38;5;124m\"\u001b[39m\u001b[38;5;124mAttempted to send an sync request with an AsyncClient instance.\u001b[39m\u001b[38;5;124m\"\u001b[39m\n\u001b[0;32m   1760\u001b[0m     )\n\u001b[0;32m   1762\u001b[0m \u001b[38;5;28;01mwith\u001b[39;00m request_context(request\u001b[38;5;241m=\u001b[39mrequest):\n\u001b[1;32m-> 1763\u001b[0m     response \u001b[38;5;241m=\u001b[39m \u001b[38;5;28;01mawait\u001b[39;00m transport\u001b[38;5;241m.\u001b[39mhandle_async_request(request)\n\u001b[0;32m   1765\u001b[0m \u001b[38;5;28;01massert\u001b[39;00m \u001b[38;5;28misinstance\u001b[39m(response\u001b[38;5;241m.\u001b[39mstream, AsyncByteStream)\n\u001b[0;32m   1766\u001b[0m response\u001b[38;5;241m.\u001b[39mrequest \u001b[38;5;241m=\u001b[39m request\n",
      "File \u001b[1;32m~\\anaconda3\\envs\\dl\\Lib\\site-packages\\httpx\\_transports\\default.py:372\u001b[0m, in \u001b[0;36mAsyncHTTPTransport.handle_async_request\u001b[1;34m(self, request)\u001b[0m\n\u001b[0;32m    358\u001b[0m \u001b[38;5;28;01massert\u001b[39;00m \u001b[38;5;28misinstance\u001b[39m(request\u001b[38;5;241m.\u001b[39mstream, AsyncByteStream)\n\u001b[0;32m    360\u001b[0m req \u001b[38;5;241m=\u001b[39m httpcore\u001b[38;5;241m.\u001b[39mRequest(\n\u001b[0;32m    361\u001b[0m     method\u001b[38;5;241m=\u001b[39mrequest\u001b[38;5;241m.\u001b[39mmethod,\n\u001b[0;32m    362\u001b[0m     url\u001b[38;5;241m=\u001b[39mhttpcore\u001b[38;5;241m.\u001b[39mURL(\n\u001b[1;32m   (...)\u001b[0m\n\u001b[0;32m    370\u001b[0m     extensions\u001b[38;5;241m=\u001b[39mrequest\u001b[38;5;241m.\u001b[39mextensions,\n\u001b[0;32m    371\u001b[0m )\n\u001b[1;32m--> 372\u001b[0m \u001b[43m\u001b[49m\u001b[38;5;28;43;01mwith\u001b[39;49;00m\u001b[43m \u001b[49m\u001b[43mmap_httpcore_exceptions\u001b[49m\u001b[43m(\u001b[49m\u001b[43m)\u001b[49m\u001b[43m:\u001b[49m\n\u001b[0;32m    373\u001b[0m \u001b[43m    \u001b[49m\u001b[43mresp\u001b[49m\u001b[43m \u001b[49m\u001b[38;5;241;43m=\u001b[39;49m\u001b[43m \u001b[49m\u001b[38;5;28;43;01mawait\u001b[39;49;00m\u001b[43m \u001b[49m\u001b[38;5;28;43mself\u001b[39;49m\u001b[38;5;241;43m.\u001b[39;49m\u001b[43m_pool\u001b[49m\u001b[38;5;241;43m.\u001b[39;49m\u001b[43mhandle_async_request\u001b[49m\u001b[43m(\u001b[49m\u001b[43mreq\u001b[49m\u001b[43m)\u001b[49m\n\u001b[0;32m    375\u001b[0m \u001b[38;5;28;01massert\u001b[39;00m \u001b[38;5;28misinstance\u001b[39m(resp\u001b[38;5;241m.\u001b[39mstream, typing\u001b[38;5;241m.\u001b[39mAsyncIterable)\n",
      "File \u001b[1;32m~\\anaconda3\\envs\\dl\\Lib\\contextlib.py:158\u001b[0m, in \u001b[0;36m_GeneratorContextManager.__exit__\u001b[1;34m(self, typ, value, traceback)\u001b[0m\n\u001b[0;32m    156\u001b[0m     value \u001b[38;5;241m=\u001b[39m typ()\n\u001b[0;32m    157\u001b[0m \u001b[38;5;28;01mtry\u001b[39;00m:\n\u001b[1;32m--> 158\u001b[0m     \u001b[38;5;28;43mself\u001b[39;49m\u001b[38;5;241;43m.\u001b[39;49m\u001b[43mgen\u001b[49m\u001b[38;5;241;43m.\u001b[39;49m\u001b[43mthrow\u001b[49m\u001b[43m(\u001b[49m\u001b[43mvalue\u001b[49m\u001b[43m)\u001b[49m\n\u001b[0;32m    159\u001b[0m \u001b[38;5;28;01mexcept\u001b[39;00m \u001b[38;5;167;01mStopIteration\u001b[39;00m \u001b[38;5;28;01mas\u001b[39;00m exc:\n\u001b[0;32m    160\u001b[0m     \u001b[38;5;66;03m# Suppress StopIteration *unless* it's the same exception that\u001b[39;00m\n\u001b[0;32m    161\u001b[0m     \u001b[38;5;66;03m# was passed to throw().  This prevents a StopIteration\u001b[39;00m\n\u001b[0;32m    162\u001b[0m     \u001b[38;5;66;03m# raised inside the \"with\" statement from being suppressed.\u001b[39;00m\n\u001b[0;32m    163\u001b[0m     \u001b[38;5;28;01mreturn\u001b[39;00m exc \u001b[38;5;129;01mis\u001b[39;00m \u001b[38;5;129;01mnot\u001b[39;00m value\n",
      "File \u001b[1;32m~\\anaconda3\\envs\\dl\\Lib\\site-packages\\httpx\\_transports\\default.py:86\u001b[0m, in \u001b[0;36mmap_httpcore_exceptions\u001b[1;34m()\u001b[0m\n\u001b[0;32m     83\u001b[0m     \u001b[38;5;28;01mraise\u001b[39;00m\n\u001b[0;32m     85\u001b[0m message \u001b[38;5;241m=\u001b[39m \u001b[38;5;28mstr\u001b[39m(exc)\n\u001b[1;32m---> 86\u001b[0m \u001b[38;5;28;01mraise\u001b[39;00m mapped_exc(message) \u001b[38;5;28;01mfrom\u001b[39;00m \u001b[38;5;21;01mexc\u001b[39;00m\n",
      "\u001b[1;31mReadTimeout\u001b[0m: "
     ]
    }
   ],
   "source": [
    "\n",
    "\n",
    "import pandas as pd\n",
    "\n",
    "from autorag.data.qacreation import generate_qa_llama_index, make_single_content_qa\n",
    "from llama_index.llms.ollama import Ollama\n",
    "\n",
    "\n",
    "prompt = \"\"\"\n",
    "Generate question and answer pairs for the given passage.\n",
    "\n",
    "Passage:\n",
    "{{text}}\n",
    "\n",
    "Number of questions to generate: {{num_questions}}\n",
    "\n",
    "Example:\n",
    "[Q]: 곤약 백김치 말이의 레시피는?\n",
    "[A]: 곤약 백김치 말이의 레시피는 다음과 같습니다:\n",
    "\n",
    "오징어를 깨끗이 손질하고 물기를 제거합니다.\n",
    "곤약을 삶아 레몬즙을 넣어 특유의 냄새를 없앱니다.\n",
    "곤약을 어간장으로 양념하여 맛을 더합니다.\n",
    "그릇에 곤약, 백김치, 파프리카, 부추, 통후추, 월계수잎을 담고 국물을 부어줍니다.\n",
    "채소와 달걀을 곁들여 완성합니다..\n",
    "\n",
    "Result:\n",
    "\"\"\"\n",
    "\n",
    "corpus_df = pd.read_parquet('./qnaset7.parquet')\n",
    "\n",
    "llm = Ollama(model='llama3.1:latest', temperature=0.3, timeout=500)\n",
    "qa_df = make_single_content_qa(corpus_df, content_size=460, qa_creation_func=generate_qa_llama_index,\n",
    "                            llm=llm, prompt=prompt, question_num_per_content=1)\n",
    "\n",
    "qa_df.head()"
   ]
  },
  {
   "cell_type": "code",
   "execution_count": 7,
   "id": "de05f3cd-e443-4c74-80d7-d10b8bf4da44",
   "metadata": {},
   "outputs": [
    {
     "ename": "NameError",
     "evalue": "name 'qa_df' is not defined",
     "output_type": "error",
     "traceback": [
      "\u001b[1;31m---------------------------------------------------------------------------\u001b[0m",
      "\u001b[1;31mNameError\u001b[0m                                 Traceback (most recent call last)",
      "Cell \u001b[1;32mIn[7], line 1\u001b[0m\n\u001b[1;32m----> 1\u001b[0m \u001b[43mqa_df\u001b[49m\u001b[38;5;241m.\u001b[39mhead()\n",
      "\u001b[1;31mNameError\u001b[0m: name 'qa_df' is not defined"
     ]
    }
   ],
   "source": [
    "qa_df.head()"
   ]
  },
  {
   "cell_type": "code",
   "execution_count": 9,
   "id": "e44c4adb-43fa-4b7c-8c20-2c258af143ae",
   "metadata": {},
   "outputs": [
    {
     "data": {
      "text/html": [
       "<div>\n",
       "<style scoped>\n",
       "    .dataframe tbody tr th:only-of-type {\n",
       "        vertical-align: middle;\n",
       "    }\n",
       "\n",
       "    .dataframe tbody tr th {\n",
       "        vertical-align: top;\n",
       "    }\n",
       "\n",
       "    .dataframe thead th {\n",
       "        text-align: right;\n",
       "    }\n",
       "</style>\n",
       "<table border=\"1\" class=\"dataframe\">\n",
       "  <thead>\n",
       "    <tr style=\"text-align: right;\">\n",
       "      <th></th>\n",
       "      <th>question</th>\n",
       "      <th>ground_truth</th>\n",
       "    </tr>\n",
       "  </thead>\n",
       "  <tbody>\n",
       "    <tr>\n",
       "      <th>0</th>\n",
       "      <td>새우 두부 계란찜의 주요 재료는 무엇인가요?</td>\n",
       "      <td>새우두부계란찜의 주요 재료는 연두부, 칵테일새우, 달걀, 생크림, 설탕, 무염버터...</td>\n",
       "    </tr>\n",
       "    <tr>\n",
       "      <th>1</th>\n",
       "      <td>부추 콩가루 찜의 조리 방법은 무엇인가요?</td>\n",
       "      <td>부추는 깨끗이 씻어 5cm 길이로 썰고 날콩가루를 넣고 섞은 후, 찜기에 면보를 ...</td>\n",
       "    </tr>\n",
       "    <tr>\n",
       "      <th>2</th>\n",
       "      <td>방울토마토 소박이의 양념장 재료는 무엇인가요?</td>\n",
       "      <td>방울토마토 소박이의 양념장 재료는 고춧가루, 멸치액젓, 다진 마늘, 매실액, 설탕...</td>\n",
       "    </tr>\n",
       "    <tr>\n",
       "      <th>3</th>\n",
       "      <td>고추 된장무침의 재료는 무엇인가요?</td>\n",
       "      <td>고추 된장무침의 재료는 풋고추, 된장, 다진 마늘, 참기름, 통깨입니다.</td>\n",
       "    </tr>\n",
       "    <tr>\n",
       "      <th>4</th>\n",
       "      <td>두부구이의 조리 방법은 무엇인가요?</td>\n",
       "      <td>두부구이는 두부를 도톰하게 썰어 물기를 제거한 후 팬에 기름을 두르고 구운 후 양...</td>\n",
       "    </tr>\n",
       "  </tbody>\n",
       "</table>\n",
       "</div>"
      ],
      "text/plain": [
       "                     question  \\\n",
       "0    새우 두부 계란찜의 주요 재료는 무엇인가요?   \n",
       "1     부추 콩가루 찜의 조리 방법은 무엇인가요?   \n",
       "2   방울토마토 소박이의 양념장 재료는 무엇인가요?   \n",
       "3         고추 된장무침의 재료는 무엇인가요?   \n",
       "4         두부구이의 조리 방법은 무엇인가요?   \n",
       "\n",
       "                                        ground_truth  \n",
       "0   새우두부계란찜의 주요 재료는 연두부, 칵테일새우, 달걀, 생크림, 설탕, 무염버터...  \n",
       "1   부추는 깨끗이 씻어 5cm 길이로 썰고 날콩가루를 넣고 섞은 후, 찜기에 면보를 ...  \n",
       "2   방울토마토 소박이의 양념장 재료는 고춧가루, 멸치액젓, 다진 마늘, 매실액, 설탕...  \n",
       "3           고추 된장무침의 재료는 풋고추, 된장, 다진 마늘, 참기름, 통깨입니다.  \n",
       "4   두부구이는 두부를 도톰하게 썰어 물기를 제거한 후 팬에 기름을 두르고 구운 후 양...  "
      ]
     },
     "execution_count": 9,
     "metadata": {},
     "output_type": "execute_result"
    }
   ],
   "source": [
    "qa_data = pd.read_excel('qnaset1.xlsx')\n",
    "qa_data.head()"
   ]
  },
  {
   "cell_type": "code",
   "execution_count": 11,
   "id": "5fe45022-e535-44c4-b5b4-11b69d5b103b",
   "metadata": {},
   "outputs": [
    {
     "name": "stdout",
     "output_type": "stream",
     "text": [
      "<class 'pandas.core.frame.DataFrame'>\n",
      "RangeIndex: 98 entries, 0 to 97\n",
      "Data columns (total 2 columns):\n",
      " #   Column        Non-Null Count  Dtype \n",
      "---  ------        --------------  ----- \n",
      " 0   question      98 non-null     object\n",
      " 1   ground_truth  98 non-null     object\n",
      "dtypes: object(2)\n",
      "memory usage: 1.7+ KB\n"
     ]
    }
   ],
   "source": [
    "qa_data.info()"
   ]
  },
  {
   "cell_type": "code",
   "execution_count": 13,
   "id": "c59cd5c2-79af-435e-82a8-bfa77b9d029a",
   "metadata": {},
   "outputs": [
    {
     "ename": "NameError",
     "evalue": "name 'conversation_chain' is not defined",
     "output_type": "error",
     "traceback": [
      "\u001b[1;31m---------------------------------------------------------------------------\u001b[0m",
      "\u001b[1;31mNameError\u001b[0m                                 Traceback (most recent call last)",
      "Cell \u001b[1;32mIn[13], line 1\u001b[0m\n\u001b[1;32m----> 1\u001b[0m response \u001b[38;5;241m=\u001b[39m \u001b[43mconversation_chain\u001b[49m\u001b[38;5;241m.\u001b[39minvoke(\u001b[38;5;124m\"\u001b[39m\u001b[38;5;124m새우 두부 계란찜의 주요 재료는 무엇인가요?\u001b[39m\u001b[38;5;124m\"\u001b[39m)\n\u001b[0;32m      2\u001b[0m \u001b[38;5;28mprint\u001b[39m(response)\n",
      "\u001b[1;31mNameError\u001b[0m: name 'conversation_chain' is not defined"
     ]
    }
   ],
   "source": [
    "response = conversation_chain.invoke(\"새우 두부 계란찜의 주요 재료는 무엇인가요?\")\n",
    "print(response)"
   ]
  },
  {
   "cell_type": "code",
   "execution_count": 15,
   "id": "e741b2be-f8ca-4ce0-8c43-905f4e397de3",
   "metadata": {},
   "outputs": [
    {
     "name": "stderr",
     "output_type": "stream",
     "text": [
      "C:\\Users\\CAWCAW\\AppData\\Local\\Temp\\ipykernel_15720\\241701327.py:101: LangChainDeprecationWarning: The class `HuggingFaceEmbeddings` was deprecated in LangChain 0.2.2 and will be removed in 0.3.0. An updated version of the class exists in the langchain-huggingface package and should be used instead. To use it run `pip install -U langchain-huggingface` and import as `from langchain_huggingface import HuggingFaceEmbeddings`.\n",
      "  embeddings = HuggingFaceEmbeddings(\n",
      "C:\\Users\\CAWCAW\\anaconda3\\envs\\dl\\Lib\\site-packages\\transformers\\tokenization_utils_base.py:1601: FutureWarning: `clean_up_tokenization_spaces` was not set. It will be set to `True` by default. This behavior will be depracted in transformers v4.45, and will be then set to `False` by default. For more details check this issue: https://github.com/huggingface/transformers/issues/31884\n",
      "  warnings.warn(\n"
     ]
    }
   ],
   "source": [
    "import PyPDF2\n",
    "import docx  # For reading DOCX files\n",
    "from langchain.text_splitter import RecursiveCharacterTextSplitter\n",
    "from langchain.embeddings import HuggingFaceEmbeddings\n",
    "from langchain.vectorstores import FAISS\n",
    "from langchain.chains import ConversationalRetrievalChain\n",
    "from langchain_openai import ChatOpenAI\n",
    "from langchain.schema import Document\n",
    "from string import Template\n",
    "import re\n",
    "import os\n",
    "import time\n",
    "from langchain.prompts import ChatPromptTemplate\n",
    "import pandas as pd\n",
    "\n",
    "# PDF 파일 읽기 함수\n",
    "def read_pdf(file_path):\n",
    "    pdf_text = []\n",
    "    with open(file_path, 'rb') as file:\n",
    "        reader = PyPDF2.PdfReader(file)\n",
    "        for page_num in range(len(reader.pages)):\n",
    "            page = reader.pages[page_num]\n",
    "            pdf_text.append(page.extract_text())\n",
    "    return pdf_text\n",
    "\n",
    "# DOCX 파일 읽기 함수\n",
    "def read_docx(file_path):\n",
    "    doc = docx.Document(file_path)\n",
    "    full_text = []\n",
    "    for para in doc.paragraphs:\n",
    "        full_text.append(para.text)\n",
    "    return '\\n'.join(full_text)\n",
    "\n",
    "# 파일 경로\n",
    "pdf_file_path = \"./02-우리_몸이_원하는_삼삼한밥상_Ⅸ_본문(화면용_펼침).pdf\"\n",
    "docx_file_path = \"./data/recipes.docx\"\n",
    "pdf_file_path2 = \"./1.pdf\"\n",
    "\n",
    "# PDF 및 DOCX 파일에서 텍스트 불러오기\n",
    "pdf_content = read_pdf(pdf_file_path)\n",
    "docx_content = read_docx(docx_file_path)\n",
    "pdf_content2 = read_pdf(pdf_file_path2)\n",
    "\n",
    "# 데이터를 딕셔너리 형태로 정리\n",
    "data = {\n",
    "    \"항목\": [\n",
    "        \"이름\", \"만나이\", \"성별\", \"키\", \"체중\", \"허리둘레\", \n",
    "        \"이상지질혈증 여부\", \"당뇨병 여부\", \n",
    "        \"음주 여부\", \"음주 빈도\", \"1회 주량\", \n",
    "        \"폭음 횟수\", \"절주 권고\", \n",
    "        \"음주 상담 유무\",\n",
    "        \"고강도 운동 여부\", \"1주일\", \"1회 운동 시간\", \n",
    "        \"중강도 운동 여부\", \"1주일\", \"1회 운동 시간?\", \n",
    "        \"걷기, 자전거 운동\", \"1주일\", \"총 운동 시간\",\n",
    "        \"음주 점수\", \"신체활동 점수\", \"고혈압 확률\",\n",
    "    ],\n",
    "    \"값\": [\n",
    "        \"김첨지\", 38, \"남자\", \"173.0 cm\", \"89.0 kg\", \"88.9 cm\",\n",
    "        \"없음\", \"없음\",\n",
    "        \"마신다\", \"월1회정도\", \"1-2잔\",\n",
    "        \"월 1회 미만\", \"없음\", \"없음\",\n",
    "        \"안 한다\", \"None\", \"None\", \n",
    "        \"안 한다\", \"None\", \"None\",\n",
    "        \"한다\", \"5일\", \"2시간 0분\",\n",
    "        \"9점\", \"6.39859점\", \"21.41%\",\n",
    "    ]\n",
    "}\n",
    "\n",
    "# 데이터프레임 생성\n",
    "df = pd.DataFrame(data)\n",
    "\n",
    "# PDF 및 DOCX 데이터를 문서 리스트로 변환\n",
    "documents = []\n",
    "\n",
    "# pdf_content는 리스트 형태일 가능성이 높으므로 개별 텍스트로 변환\n",
    "for text in pdf_content:\n",
    "    if isinstance(text, str):\n",
    "        documents.append(Document(page_content=text))\n",
    "\n",
    "# docx_content는 하나의 문자열이므로 바로 추가\n",
    "if isinstance(docx_content, str):\n",
    "    documents.append(Document(page_content=docx_content))\n",
    "\n",
    "# pdf_content2도 리스트일 가능성이 있으므로 개별 텍스트로 변환\n",
    "for text in pdf_content2:\n",
    "    if isinstance(text, str):\n",
    "        documents.append(Document(page_content=text))\n",
    "\n",
    "# 텍스트를 청크로 분리하는 함수\n",
    "def get_text_chunks(documents):\n",
    "    text_splitter = RecursiveCharacterTextSplitter(\n",
    "        chunk_size=512,  # 청크 크기를 더 줄임\n",
    "        chunk_overlap=50,\n",
    "        length_function=len\n",
    "    )\n",
    "    chunks = text_splitter.split_documents(documents)\n",
    "    return chunks\n",
    "\n",
    "# 벡터 스토어 생성 함수\n",
    "def get_vectorstore(_text_chunks):\n",
    "    embeddings = HuggingFaceEmbeddings(\n",
    "        model_name=\"jhgan/ko-sroberta-multitask\",\n",
    "        model_kwargs={'device': 'cuda'},\n",
    "        encode_kwargs={'normalize_embeddings': True}\n",
    "    )\n",
    "    vectordb = FAISS.from_documents(_text_chunks, embeddings)\n",
    "    return vectordb\n",
    "\n",
    "# 시스템 프롬프트 템플릿 생성\n",
    "system_message = \"\"\"\n",
    "data = {\n",
    "    \"항목\": [\n",
    "        \"이름\", \"만나이\", \"성별\", \"키\", \"체중\", \"허리둘레\", \n",
    "        \"이상지질혈증 여부\", \"당뇨병 여부\", \n",
    "        \"술을 마십니까?\", \"술을 얼마나 자주 마십니까?\", \"한 번에 술을 얼마나 마십니까?\", \n",
    "        \"한 번의 술자리에서 7잔 이상을 마시는 횟수\", \"술을 끊거나 줄이라는 권고를 받은 적이 있습니까?\", \n",
    "        \"최근 1년 동안 음주 문제로 상담을 받아본 적이 있습니까?\",\n",
    "        \"고강도 운동 여부\", \"1주일에 며칠 하십니까?\", \"한 번 할 때 몇 시간 하십니까?\", \n",
    "        \"중강도 운동 여부\", \"1주일에 며칠 하십니까?\", \"한 번 할 때 몇 시간 하십니까?\", \n",
    "        \"걷기나 자전거를 이용하십니까?\", \"1주일에 며칠 하십니까?\", \"대략 몇 시간 움직이십니까?\",\n",
    "        \"음주 점수\", \"신체활동 점수\", \"고혈압 확률\"\n",
    "    ],\n",
    "    \"값\": [\n",
    "        \"김첨지\", 38, \"남자\", \"173.0 cm\", \"89.0 kg\", \"88.9 cm\",\n",
    "        \"없음\", \"없음\",\n",
    "        \"마신다\", \"월1회정도\", \"1-2잔\",\n",
    "        \"월 1회 미만\", \"없음\", \"없음\",\n",
    "        \"안 한다\", \"None\", \"None\", \n",
    "        \"안 한다\", \"None\", \"None\",\n",
    "        \"한다\", \"5일\", \"2시간 0분\",\n",
    "        \"9점\", \"6.39859점\", \"21.41%\",\n",
    "    ]\n",
    "}\n",
    "너는 이 데이터를 읽고 데이터에 알맞은 식단이나 레시피를 소개하주는 영양전문가야.\n",
    "\"\"\"\n",
    "\n",
    "# 텍스트 청크 생성\n",
    "text_chunks = get_text_chunks(documents)\n",
    "\n",
    "# 벡터 스토어 생성\n",
    "vectorstore = get_vectorstore(text_chunks)\n",
    "\n",
    "# 대화형 체인 생성 함수\n",
    "def get_conversation_chain(_vectorstore):\n",
    "    llm = ChatOpenAI(\n",
    "        base_url=\"http://localhost:1234/v1\",\n",
    "        api_key=\"lm-studio\",\n",
    "        model=\"teddylee777/EEVE-Korean-Instruct-10.8B-v1.0-gguf\",\n",
    "        temperature=0.3,\n",
    "        streaming=True\n",
    "    )\n",
    "\n",
    "    retriever = _vectorstore.as_retriever(\n",
    "        search_type='similarity',\n",
    "        search_kwargs={\"k\": 5},\n",
    "        verbose=False\n",
    "    )\n",
    "\n",
    "    # 시스템 메시지를 포함하는 프롬프트 템플릿 생성\n",
    "    prompt_template = ChatPromptTemplate.from_messages([\n",
    "        (\"system\", system_message),\n",
    "        (\"user\", \"{question}\")\n",
    "    ])\n",
    "\n",
    "    conversation_chain = ConversationalRetrievalChain.from_llm(\n",
    "        llm=llm, \n",
    "        chain_type=\"stuff\",\n",
    "        retriever=retriever, \n",
    "        return_source_documents=True,\n",
    "        verbose=False\n",
    "    )\n",
    "    return conversation_chain\n",
    "\n",
    "# 대화형 체인 생성\n",
    "conversation_chain = get_conversation_chain(vectorstore)\n",
    "\n",
    "# 사용자 질의 처리 함수\n",
    "def process_user_query(query):\n",
    "    formatted_query = get_prompt_template(query)\n",
    "    result = conversation_chain({\"question\": formatted_query, \"chat_history\": []})\n",
    "    response = result['answer']\n",
    "    return response\n"
   ]
  },
  {
   "cell_type": "code",
   "execution_count": 44,
   "id": "53445704-dab0-4e60-bc80-44b0ac427626",
   "metadata": {},
   "outputs": [
    {
     "name": "stdout",
     "output_type": "stream",
     "text": [
      "{'question': '새우 두부 계란찜의 주요 재료는 무엇인가요?', 'chat_history': [], 'answer': '새우 두부 계란찜의 주요 재료는 연두부, 칵테일 새우, 달걀, 생크림, 설탕, 무염버터입니다.', 'source_documents': [Document(page_content='새우 두부 계란찜\\n기본 정보\\n일련번호: 28\\n조리방법: 찌기\\n요리종류: 반찬\\n영양 정보\\n중량(1인분): g\\n열량: 220 kcal\\n탄수화물: 3g\\n단백질: 14g\\n지방: 17g\\n나트륨: 99mg\\n재료 정보\\n새우두부계란찜\\n연두부 75g(3/4모), 칵테일새우 20g(5마리), 달걀 30g(1/2개), 생크림 13g(1큰술), 설탕 5g(1작은술), 무염버터 5g(1작은술)\\n고명\\n시금치 10g(3줄기)\\n조리 방법\\n단계 1: 1. 손질된 새우를 끓는 물에 데쳐 건진다.a\\n이미지: http://www.foodsafetykorea.go.kr/uploadimg/cook/20_00028_1.png\\n단계 2: 2. 연두부, 달걀, 생크림, 설탕에 녹인 무염버터를 믹서에 넣고 간 뒤 새우(1)를 함께 섞어 그릇에 담는다.b\\n이미지: http://www.foodsafetykorea.go.kr/uploadimg/cook/20_00028_2.png'), Document(page_content='새우살을 채운 두부 스프(미네스트로네)\\n기본 정보\\n일련번호: 1040\\n조리방법: 끓이기\\n요리종류: 일품\\n영양 정보\\n중량(1인분): g\\n열량: 117 kcal\\n탄수화물: 5.9g\\n단백질: 13.8g\\n지방: 4.6g\\n나트륨: 361mg\\n재료 정보\\n새우 35g, 두부 50g, 당근 10g, 돼지호박 10g, 참기름 1g, 생강 1g, 양파 10g, 마늘다진것 1g, 닭육수 70g, 굴소스 3g, 간장 2g, 소금적당량[새우 마리네이션]달걀흰자 5g, 전분 2g, 소금 적당량\\n조리 방법\\n단계 1: 1. 새우살을 다져서 양념한다.\\n이미지: http://www.foodsafetykorea.go.kr/uploadimg/cook/1040-1.jpg\\n단계 2: 2. 두부는 4x3cm로 썰어 한 쪽 면은 속을 파내고 간이 된 새우살을 채운 뒤 전분을 묻혀 지진다.\\n이미지: http://www.foodsafetykorea.go.kr/uploadimg/cook/1040-2.jpg'), Document(page_content='두부 새우볼\\n기본 정보\\n일련번호: 3208\\n조리방법: 볶기\\n요리종류: 일품\\n영양 정보\\n중량(1인분): 170g\\n열량: 187.1 kcal\\n탄수화물: 8.4g\\n단백질: 15.3g\\n지방: 10.3g\\n나트륨: 288.1mg\\n재료 정보\\n두부(100g), 냉동 새우살(90g), 양파(30g), 새송이버섯(100g), 생강가루(1g), 후춧가루(1g), 소금(1g), 소금(1g), 후춧가루(1g), 파슬리가루(2g), 식용유(25ml), 버터(10g), 밀가루(10g), 우유(360㎖)\\n조리 방법\\n단계 1: 1. 두부는 물기를 제거한 뒤 칼등으로 으깨고, 새우와 양파는 잘게 다지고, 새송이버섯은 한입 크기로 썬다.\\n이미지: http://www.foodsafetykorea.go.kr/uploadimg/20210209/20210209104637_1612835197531.jpg\\n단계 2: 2. 으깬 두부와 잘게 다진 새우, 양파는 밑간해 고루 버무린 뒤 적당량(25g)씩 떼어 동그랗게 빚는다.'), Document(page_content='간장소스를 곁들인 새우전복찜\\n기본 정보\\n일련번호: 643\\n조리방법: 찌기\\n요리종류: 반찬\\n영양 정보\\n중량(1인분): g\\n열량: 119.1 kcal\\n탄수화물: 8.2g\\n단백질: 19.2g\\n지방: 1.1g\\n나트륨: 455.9mg\\n재료 정보\\n전복(2개), 새우(3마리), 시금치(30g), 해초(20g),\\n저염간장(20g), 레몬(1/4개), 설탕(20g), 소금(0.1g),\\n마늘(10g), 녹말(10g), 식용꽃(60g)\\n조리 방법\\n단계 1: 1. 전복은 수저로 떼어내어 소금으로 비벼\\n깨끗이 씻는다.\\n이미지: http://www.foodsafetykorea.go.kr/uploadimg/cook/20_00643_1.png\\n단계 2: 2. 시금치는 데쳐 다지고, 새우는 껍질을\\n벗겨 전복, 해초와 함께 다진다.\\n이미지: http://www.foodsafetykorea.go.kr/uploadimg/cook/20_00643_2.png\\n단계 3: 3. ?번을 잘 섞어 전복 껍질에 넣는다.'), Document(page_content='새우두부만두\\n기본 정보\\n일련번호: 706\\n조리방법: 찌기\\n요리종류: 반찬\\n영양 정보\\n중량(1인분): g\\n열량: 397.5 kcal\\n탄수화물: 66.3g\\n단백질: 27.1g\\n지방: 4.8g\\n나트륨: 563.2mg\\n재료 정보\\n칵테일 새우 50g, 두부 80g, 부추 10g, 표고버섯, 8g, 소금 1g, 후추 0.25g, 만두피 75g, 간장 1.5g, 식초 0.75g, 물 5g, 고춧가루 0.4g\\n조리 방법\\n단계 1: 1. 칼등으로 두부를 으깨 면보에 싸서 물기를 짜낸다.\\n이미지: http://www.foodsafetykorea.go.kr/uploadimg/cook/706-1.jpg\\n단계 2: 2. 새우, 부추, 표고버섯은 잘게 다진다.\\n이미지: http://www.foodsafetykorea.go.kr/uploadimg/cook/706-2.jpg\\n단계 3: 3. 두부에 다진 새우, 부추, 표고버섯, 소금, 후추를 넣어 소를 만든다.')]}\n"
     ]
    }
   ],
   "source": [
    "response = conversation_chain.invoke({\n",
    "    \"question\": \"새우 두부 계란찜의 주요 재료는 무엇인가요?\", \n",
    "    \"chat_history\": []\n",
    "})\n",
    "print(response)"
   ]
  },
  {
   "cell_type": "code",
   "execution_count": 46,
   "id": "37cf5f79-9ab8-453a-9c97-69a63aacf34a",
   "metadata": {},
   "outputs": [
    {
     "ename": "NameError",
     "evalue": "name 'retriever' is not defined",
     "output_type": "error",
     "traceback": [
      "\u001b[1;31m---------------------------------------------------------------------------\u001b[0m",
      "\u001b[1;31mNameError\u001b[0m                                 Traceback (most recent call last)",
      "Cell \u001b[1;32mIn[46], line 10\u001b[0m\n\u001b[0;32m      4\u001b[0m qa_data[\u001b[38;5;124m'\u001b[39m\u001b[38;5;124manswer\u001b[39m\u001b[38;5;124m'\u001b[39m] \u001b[38;5;241m=\u001b[39m qa_data[\u001b[38;5;124m'\u001b[39m\u001b[38;5;124mquestion\u001b[39m\u001b[38;5;124m'\u001b[39m]\u001b[38;5;241m.\u001b[39mapply(\u001b[38;5;28;01mlambda\u001b[39;00m x: conversation_chain\u001b[38;5;241m.\u001b[39minvoke({\n\u001b[0;32m      5\u001b[0m     \u001b[38;5;124m\"\u001b[39m\u001b[38;5;124mquestion\u001b[39m\u001b[38;5;124m\"\u001b[39m: x, \n\u001b[0;32m      6\u001b[0m     \u001b[38;5;124m\"\u001b[39m\u001b[38;5;124mchat_history\u001b[39m\u001b[38;5;124m\"\u001b[39m: []\n\u001b[0;32m      7\u001b[0m }))  \u001b[38;5;66;03m# answer 부분만 추출\u001b[39;00m\n\u001b[0;32m      9\u001b[0m \u001b[38;5;66;03m# 'contexts' 열에 관련 문서의 내용을 추가\u001b[39;00m\n\u001b[1;32m---> 10\u001b[0m qa_data[\u001b[38;5;124m'\u001b[39m\u001b[38;5;124mcontexts\u001b[39m\u001b[38;5;124m'\u001b[39m] \u001b[38;5;241m=\u001b[39m \u001b[43mqa_data\u001b[49m\u001b[43m[\u001b[49m\u001b[38;5;124;43m'\u001b[39;49m\u001b[38;5;124;43mquestion\u001b[39;49m\u001b[38;5;124;43m'\u001b[39;49m\u001b[43m]\u001b[49m\u001b[38;5;241;43m.\u001b[39;49m\u001b[43mapply\u001b[49m\u001b[43m(\u001b[49m\u001b[38;5;28;43;01mlambda\u001b[39;49;00m\u001b[43m \u001b[49m\u001b[43mx\u001b[49m\u001b[43m:\u001b[49m\u001b[43m \u001b[49m\u001b[43m[\u001b[49m\u001b[43md\u001b[49m\u001b[38;5;241;43m.\u001b[39;49m\u001b[43mpage_content\u001b[49m\u001b[43m \u001b[49m\u001b[38;5;28;43;01mfor\u001b[39;49;00m\u001b[43m \u001b[49m\u001b[43md\u001b[49m\u001b[43m \u001b[49m\u001b[38;5;129;43;01min\u001b[39;49;00m\u001b[43m \u001b[49m\u001b[43mretriever\u001b[49m\u001b[38;5;241;43m.\u001b[39;49m\u001b[43mget_relevant_documents\u001b[49m\u001b[43m(\u001b[49m\u001b[43mx\u001b[49m\u001b[43m)\u001b[49m\u001b[43m]\u001b[49m\u001b[43m)\u001b[49m\n\u001b[0;32m     12\u001b[0m \u001b[38;5;66;03m# 데이터 확인\u001b[39;00m\n\u001b[0;32m     13\u001b[0m qa_data\u001b[38;5;241m.\u001b[39mhead()\n",
      "File \u001b[1;32m~\\anaconda3\\envs\\dl\\Lib\\site-packages\\pandas\\core\\series.py:4924\u001b[0m, in \u001b[0;36mSeries.apply\u001b[1;34m(self, func, convert_dtype, args, by_row, **kwargs)\u001b[0m\n\u001b[0;32m   4789\u001b[0m \u001b[38;5;28;01mdef\u001b[39;00m \u001b[38;5;21mapply\u001b[39m(\n\u001b[0;32m   4790\u001b[0m     \u001b[38;5;28mself\u001b[39m,\n\u001b[0;32m   4791\u001b[0m     func: AggFuncType,\n\u001b[1;32m   (...)\u001b[0m\n\u001b[0;32m   4796\u001b[0m     \u001b[38;5;241m*\u001b[39m\u001b[38;5;241m*\u001b[39mkwargs,\n\u001b[0;32m   4797\u001b[0m ) \u001b[38;5;241m-\u001b[39m\u001b[38;5;241m>\u001b[39m DataFrame \u001b[38;5;241m|\u001b[39m Series:\n\u001b[0;32m   4798\u001b[0m \u001b[38;5;250m    \u001b[39m\u001b[38;5;124;03m\"\"\"\u001b[39;00m\n\u001b[0;32m   4799\u001b[0m \u001b[38;5;124;03m    Invoke function on values of Series.\u001b[39;00m\n\u001b[0;32m   4800\u001b[0m \n\u001b[1;32m   (...)\u001b[0m\n\u001b[0;32m   4915\u001b[0m \u001b[38;5;124;03m    dtype: float64\u001b[39;00m\n\u001b[0;32m   4916\u001b[0m \u001b[38;5;124;03m    \"\"\"\u001b[39;00m\n\u001b[0;32m   4917\u001b[0m     \u001b[38;5;28;01mreturn\u001b[39;00m \u001b[43mSeriesApply\u001b[49m\u001b[43m(\u001b[49m\n\u001b[0;32m   4918\u001b[0m \u001b[43m        \u001b[49m\u001b[38;5;28;43mself\u001b[39;49m\u001b[43m,\u001b[49m\n\u001b[0;32m   4919\u001b[0m \u001b[43m        \u001b[49m\u001b[43mfunc\u001b[49m\u001b[43m,\u001b[49m\n\u001b[0;32m   4920\u001b[0m \u001b[43m        \u001b[49m\u001b[43mconvert_dtype\u001b[49m\u001b[38;5;241;43m=\u001b[39;49m\u001b[43mconvert_dtype\u001b[49m\u001b[43m,\u001b[49m\n\u001b[0;32m   4921\u001b[0m \u001b[43m        \u001b[49m\u001b[43mby_row\u001b[49m\u001b[38;5;241;43m=\u001b[39;49m\u001b[43mby_row\u001b[49m\u001b[43m,\u001b[49m\n\u001b[0;32m   4922\u001b[0m \u001b[43m        \u001b[49m\u001b[43margs\u001b[49m\u001b[38;5;241;43m=\u001b[39;49m\u001b[43margs\u001b[49m\u001b[43m,\u001b[49m\n\u001b[0;32m   4923\u001b[0m \u001b[43m        \u001b[49m\u001b[43mkwargs\u001b[49m\u001b[38;5;241;43m=\u001b[39;49m\u001b[43mkwargs\u001b[49m\u001b[43m,\u001b[49m\n\u001b[1;32m-> 4924\u001b[0m \u001b[43m    \u001b[49m\u001b[43m)\u001b[49m\u001b[38;5;241;43m.\u001b[39;49m\u001b[43mapply\u001b[49m\u001b[43m(\u001b[49m\u001b[43m)\u001b[49m\n",
      "File \u001b[1;32m~\\anaconda3\\envs\\dl\\Lib\\site-packages\\pandas\\core\\apply.py:1427\u001b[0m, in \u001b[0;36mSeriesApply.apply\u001b[1;34m(self)\u001b[0m\n\u001b[0;32m   1424\u001b[0m     \u001b[38;5;28;01mreturn\u001b[39;00m \u001b[38;5;28mself\u001b[39m\u001b[38;5;241m.\u001b[39mapply_compat()\n\u001b[0;32m   1426\u001b[0m \u001b[38;5;66;03m# self.func is Callable\u001b[39;00m\n\u001b[1;32m-> 1427\u001b[0m \u001b[38;5;28;01mreturn\u001b[39;00m \u001b[38;5;28;43mself\u001b[39;49m\u001b[38;5;241;43m.\u001b[39;49m\u001b[43mapply_standard\u001b[49m\u001b[43m(\u001b[49m\u001b[43m)\u001b[49m\n",
      "File \u001b[1;32m~\\anaconda3\\envs\\dl\\Lib\\site-packages\\pandas\\core\\apply.py:1507\u001b[0m, in \u001b[0;36mSeriesApply.apply_standard\u001b[1;34m(self)\u001b[0m\n\u001b[0;32m   1501\u001b[0m \u001b[38;5;66;03m# row-wise access\u001b[39;00m\n\u001b[0;32m   1502\u001b[0m \u001b[38;5;66;03m# apply doesn't have a `na_action` keyword and for backward compat reasons\u001b[39;00m\n\u001b[0;32m   1503\u001b[0m \u001b[38;5;66;03m# we need to give `na_action=\"ignore\"` for categorical data.\u001b[39;00m\n\u001b[0;32m   1504\u001b[0m \u001b[38;5;66;03m# TODO: remove the `na_action=\"ignore\"` when that default has been changed in\u001b[39;00m\n\u001b[0;32m   1505\u001b[0m \u001b[38;5;66;03m#  Categorical (GH51645).\u001b[39;00m\n\u001b[0;32m   1506\u001b[0m action \u001b[38;5;241m=\u001b[39m \u001b[38;5;124m\"\u001b[39m\u001b[38;5;124mignore\u001b[39m\u001b[38;5;124m\"\u001b[39m \u001b[38;5;28;01mif\u001b[39;00m \u001b[38;5;28misinstance\u001b[39m(obj\u001b[38;5;241m.\u001b[39mdtype, CategoricalDtype) \u001b[38;5;28;01melse\u001b[39;00m \u001b[38;5;28;01mNone\u001b[39;00m\n\u001b[1;32m-> 1507\u001b[0m mapped \u001b[38;5;241m=\u001b[39m \u001b[43mobj\u001b[49m\u001b[38;5;241;43m.\u001b[39;49m\u001b[43m_map_values\u001b[49m\u001b[43m(\u001b[49m\n\u001b[0;32m   1508\u001b[0m \u001b[43m    \u001b[49m\u001b[43mmapper\u001b[49m\u001b[38;5;241;43m=\u001b[39;49m\u001b[43mcurried\u001b[49m\u001b[43m,\u001b[49m\u001b[43m \u001b[49m\u001b[43mna_action\u001b[49m\u001b[38;5;241;43m=\u001b[39;49m\u001b[43maction\u001b[49m\u001b[43m,\u001b[49m\u001b[43m \u001b[49m\u001b[43mconvert\u001b[49m\u001b[38;5;241;43m=\u001b[39;49m\u001b[38;5;28;43mself\u001b[39;49m\u001b[38;5;241;43m.\u001b[39;49m\u001b[43mconvert_dtype\u001b[49m\n\u001b[0;32m   1509\u001b[0m \u001b[43m\u001b[49m\u001b[43m)\u001b[49m\n\u001b[0;32m   1511\u001b[0m \u001b[38;5;28;01mif\u001b[39;00m \u001b[38;5;28mlen\u001b[39m(mapped) \u001b[38;5;129;01mand\u001b[39;00m \u001b[38;5;28misinstance\u001b[39m(mapped[\u001b[38;5;241m0\u001b[39m], ABCSeries):\n\u001b[0;32m   1512\u001b[0m     \u001b[38;5;66;03m# GH#43986 Need to do list(mapped) in order to get treated as nested\u001b[39;00m\n\u001b[0;32m   1513\u001b[0m     \u001b[38;5;66;03m#  See also GH#25959 regarding EA support\u001b[39;00m\n\u001b[0;32m   1514\u001b[0m     \u001b[38;5;28;01mreturn\u001b[39;00m obj\u001b[38;5;241m.\u001b[39m_constructor_expanddim(\u001b[38;5;28mlist\u001b[39m(mapped), index\u001b[38;5;241m=\u001b[39mobj\u001b[38;5;241m.\u001b[39mindex)\n",
      "File \u001b[1;32m~\\anaconda3\\envs\\dl\\Lib\\site-packages\\pandas\\core\\base.py:921\u001b[0m, in \u001b[0;36mIndexOpsMixin._map_values\u001b[1;34m(self, mapper, na_action, convert)\u001b[0m\n\u001b[0;32m    918\u001b[0m \u001b[38;5;28;01mif\u001b[39;00m \u001b[38;5;28misinstance\u001b[39m(arr, ExtensionArray):\n\u001b[0;32m    919\u001b[0m     \u001b[38;5;28;01mreturn\u001b[39;00m arr\u001b[38;5;241m.\u001b[39mmap(mapper, na_action\u001b[38;5;241m=\u001b[39mna_action)\n\u001b[1;32m--> 921\u001b[0m \u001b[38;5;28;01mreturn\u001b[39;00m \u001b[43malgorithms\u001b[49m\u001b[38;5;241;43m.\u001b[39;49m\u001b[43mmap_array\u001b[49m\u001b[43m(\u001b[49m\u001b[43marr\u001b[49m\u001b[43m,\u001b[49m\u001b[43m \u001b[49m\u001b[43mmapper\u001b[49m\u001b[43m,\u001b[49m\u001b[43m \u001b[49m\u001b[43mna_action\u001b[49m\u001b[38;5;241;43m=\u001b[39;49m\u001b[43mna_action\u001b[49m\u001b[43m,\u001b[49m\u001b[43m \u001b[49m\u001b[43mconvert\u001b[49m\u001b[38;5;241;43m=\u001b[39;49m\u001b[43mconvert\u001b[49m\u001b[43m)\u001b[49m\n",
      "File \u001b[1;32m~\\anaconda3\\envs\\dl\\Lib\\site-packages\\pandas\\core\\algorithms.py:1743\u001b[0m, in \u001b[0;36mmap_array\u001b[1;34m(arr, mapper, na_action, convert)\u001b[0m\n\u001b[0;32m   1741\u001b[0m values \u001b[38;5;241m=\u001b[39m arr\u001b[38;5;241m.\u001b[39mastype(\u001b[38;5;28mobject\u001b[39m, copy\u001b[38;5;241m=\u001b[39m\u001b[38;5;28;01mFalse\u001b[39;00m)\n\u001b[0;32m   1742\u001b[0m \u001b[38;5;28;01mif\u001b[39;00m na_action \u001b[38;5;129;01mis\u001b[39;00m \u001b[38;5;28;01mNone\u001b[39;00m:\n\u001b[1;32m-> 1743\u001b[0m     \u001b[38;5;28;01mreturn\u001b[39;00m \u001b[43mlib\u001b[49m\u001b[38;5;241;43m.\u001b[39;49m\u001b[43mmap_infer\u001b[49m\u001b[43m(\u001b[49m\u001b[43mvalues\u001b[49m\u001b[43m,\u001b[49m\u001b[43m \u001b[49m\u001b[43mmapper\u001b[49m\u001b[43m,\u001b[49m\u001b[43m \u001b[49m\u001b[43mconvert\u001b[49m\u001b[38;5;241;43m=\u001b[39;49m\u001b[43mconvert\u001b[49m\u001b[43m)\u001b[49m\n\u001b[0;32m   1744\u001b[0m \u001b[38;5;28;01melse\u001b[39;00m:\n\u001b[0;32m   1745\u001b[0m     \u001b[38;5;28;01mreturn\u001b[39;00m lib\u001b[38;5;241m.\u001b[39mmap_infer_mask(\n\u001b[0;32m   1746\u001b[0m         values, mapper, mask\u001b[38;5;241m=\u001b[39misna(values)\u001b[38;5;241m.\u001b[39mview(np\u001b[38;5;241m.\u001b[39muint8), convert\u001b[38;5;241m=\u001b[39mconvert\n\u001b[0;32m   1747\u001b[0m     )\n",
      "File \u001b[1;32mlib.pyx:2972\u001b[0m, in \u001b[0;36mpandas._libs.lib.map_infer\u001b[1;34m()\u001b[0m\n",
      "Cell \u001b[1;32mIn[46], line 10\u001b[0m, in \u001b[0;36m<lambda>\u001b[1;34m(x)\u001b[0m\n\u001b[0;32m      4\u001b[0m qa_data[\u001b[38;5;124m'\u001b[39m\u001b[38;5;124manswer\u001b[39m\u001b[38;5;124m'\u001b[39m] \u001b[38;5;241m=\u001b[39m qa_data[\u001b[38;5;124m'\u001b[39m\u001b[38;5;124mquestion\u001b[39m\u001b[38;5;124m'\u001b[39m]\u001b[38;5;241m.\u001b[39mapply(\u001b[38;5;28;01mlambda\u001b[39;00m x: conversation_chain\u001b[38;5;241m.\u001b[39minvoke({\n\u001b[0;32m      5\u001b[0m     \u001b[38;5;124m\"\u001b[39m\u001b[38;5;124mquestion\u001b[39m\u001b[38;5;124m\"\u001b[39m: x, \n\u001b[0;32m      6\u001b[0m     \u001b[38;5;124m\"\u001b[39m\u001b[38;5;124mchat_history\u001b[39m\u001b[38;5;124m\"\u001b[39m: []\n\u001b[0;32m      7\u001b[0m }))  \u001b[38;5;66;03m# answer 부분만 추출\u001b[39;00m\n\u001b[0;32m      9\u001b[0m \u001b[38;5;66;03m# 'contexts' 열에 관련 문서의 내용을 추가\u001b[39;00m\n\u001b[1;32m---> 10\u001b[0m qa_data[\u001b[38;5;124m'\u001b[39m\u001b[38;5;124mcontexts\u001b[39m\u001b[38;5;124m'\u001b[39m] \u001b[38;5;241m=\u001b[39m qa_data[\u001b[38;5;124m'\u001b[39m\u001b[38;5;124mquestion\u001b[39m\u001b[38;5;124m'\u001b[39m]\u001b[38;5;241m.\u001b[39mapply(\u001b[38;5;28;01mlambda\u001b[39;00m x: [d\u001b[38;5;241m.\u001b[39mpage_content \u001b[38;5;28;01mfor\u001b[39;00m d \u001b[38;5;129;01min\u001b[39;00m \u001b[43mretriever\u001b[49m\u001b[38;5;241m.\u001b[39mget_relevant_documents(x)])\n\u001b[0;32m     12\u001b[0m \u001b[38;5;66;03m# 데이터 확인\u001b[39;00m\n\u001b[0;32m     13\u001b[0m qa_data\u001b[38;5;241m.\u001b[39mhead()\n",
      "\u001b[1;31mNameError\u001b[0m: name 'retriever' is not defined"
     ]
    }
   ],
   "source": [
    "qa_data['ground_truth'] = qa_data['answer']\n",
    "\n",
    "# 'answer'와 'contexts' 열을 conversation_chain과 retriever로 채움\n",
    "qa_data['answer'] = qa_data['question'].apply(lambda x: conversation_chain.invoke({\n",
    "    \"question\": x, \n",
    "    \"chat_history\": []\n",
    "}))  # answer 부분만 추출\n",
    "\n",
    "# 'contexts' 열에 관련 문서의 내용을 추가\n",
    "qa_data['contexts'] = qa_data['question'].apply(lambda x: [d.page_content for d in retriever.get_relevant_documents(x)])\n",
    "\n",
    "# 데이터 확인\n",
    "qa_data.head()"
   ]
  },
  {
   "cell_type": "code",
   "execution_count": 48,
   "id": "adb5ae2e-bc3d-4fcc-98e0-b282ad46cd99",
   "metadata": {
    "scrolled": true
   },
   "outputs": [
    {
     "data": {
      "text/html": [
       "<div>\n",
       "<style scoped>\n",
       "    .dataframe tbody tr th:only-of-type {\n",
       "        vertical-align: middle;\n",
       "    }\n",
       "\n",
       "    .dataframe tbody tr th {\n",
       "        vertical-align: top;\n",
       "    }\n",
       "\n",
       "    .dataframe thead th {\n",
       "        text-align: right;\n",
       "    }\n",
       "</style>\n",
       "<table border=\"1\" class=\"dataframe\">\n",
       "  <thead>\n",
       "    <tr style=\"text-align: right;\">\n",
       "      <th></th>\n",
       "      <th>question</th>\n",
       "      <th>ground_truth</th>\n",
       "      <th>answer</th>\n",
       "      <th>contexts</th>\n",
       "    </tr>\n",
       "  </thead>\n",
       "  <tbody>\n",
       "    <tr>\n",
       "      <th>0</th>\n",
       "      <td>새우 두부 계란찜의 주요 재료는 무엇인가요?</td>\n",
       "      <td>새우두부계란찜의 주요 재료는 연두부 75g(3/4모), 칵테일새우 20g(5마리)...</td>\n",
       "      <td>{'question': ' 새우 두부 계란찜의 주요 재료는 무엇인가요?', 'cha...</td>\n",
       "      <td>[]</td>\n",
       "    </tr>\n",
       "    <tr>\n",
       "      <th>1</th>\n",
       "      <td>부추 콩가루 찜의 조리 방법은 무엇인가요?</td>\n",
       "      <td>부추 콩가루 찜의 조리 방법은 다음과 같습니다:\\n\\n1. 부추는 깨끗이 씻어 물기...</td>\n",
       "      <td>{'question': ' 부추 콩가루 찜의 조리 방법은 무엇인가요?', 'chat...</td>\n",
       "      <td>[]</td>\n",
       "    </tr>\n",
       "    <tr>\n",
       "      <th>2</th>\n",
       "      <td>방울토마토 소박이의 양념장 재료는 무엇인가요?</td>\n",
       "      <td>고춧가루, 멸치액젓, 다진 마늘, 매실액, 설탕, 물, 통깨입니다.</td>\n",
       "      <td>{'question': ' 방울토마토 소박이의 양념장 재료는 무엇인가요?', 'ch...</td>\n",
       "      <td>[]</td>\n",
       "    </tr>\n",
       "    <tr>\n",
       "      <th>3</th>\n",
       "      <td>고추 된장무침의 재료는 무엇인가요?</td>\n",
       "      <td>고추 된장무침의 재료는 다음과 같습니다: 오이고추(40g), 영양부추(5g), 연근...</td>\n",
       "      <td>{'question': ' 고추 된장무침의 재료는 무엇인가요?', 'chat_his...</td>\n",
       "      <td>[]</td>\n",
       "    </tr>\n",
       "    <tr>\n",
       "      <th>4</th>\n",
       "      <td>두부구이의 조리 방법은 무엇인가요?</td>\n",
       "      <td>두부를 1.5cm 두께로 잘라 물기를 뺀다.\\n프라이팬에 올리브유를 두르고 두부를 ...</td>\n",
       "      <td>{'question': ' 두부구이의 조리 방법은 무엇인가요?', 'chat_his...</td>\n",
       "      <td>[]</td>\n",
       "    </tr>\n",
       "  </tbody>\n",
       "</table>\n",
       "</div>"
      ],
      "text/plain": [
       "                     question  \\\n",
       "0    새우 두부 계란찜의 주요 재료는 무엇인가요?   \n",
       "1     부추 콩가루 찜의 조리 방법은 무엇인가요?   \n",
       "2   방울토마토 소박이의 양념장 재료는 무엇인가요?   \n",
       "3         고추 된장무침의 재료는 무엇인가요?   \n",
       "4         두부구이의 조리 방법은 무엇인가요?   \n",
       "\n",
       "                                        ground_truth  \\\n",
       "0   새우두부계란찜의 주요 재료는 연두부 75g(3/4모), 칵테일새우 20g(5마리)...   \n",
       "1  부추 콩가루 찜의 조리 방법은 다음과 같습니다:\\n\\n1. 부추는 깨끗이 씻어 물기...   \n",
       "2              고춧가루, 멸치액젓, 다진 마늘, 매실액, 설탕, 물, 통깨입니다.   \n",
       "3  고추 된장무침의 재료는 다음과 같습니다: 오이고추(40g), 영양부추(5g), 연근...   \n",
       "4  두부를 1.5cm 두께로 잘라 물기를 뺀다.\\n프라이팬에 올리브유를 두르고 두부를 ...   \n",
       "\n",
       "                                              answer contexts  \n",
       "0  {'question': ' 새우 두부 계란찜의 주요 재료는 무엇인가요?', 'cha...       []  \n",
       "1  {'question': ' 부추 콩가루 찜의 조리 방법은 무엇인가요?', 'chat...       []  \n",
       "2  {'question': ' 방울토마토 소박이의 양념장 재료는 무엇인가요?', 'ch...       []  \n",
       "3  {'question': ' 고추 된장무침의 재료는 무엇인가요?', 'chat_his...       []  \n",
       "4  {'question': ' 두부구이의 조리 방법은 무엇인가요?', 'chat_his...       []  "
      ]
     },
     "execution_count": 48,
     "metadata": {},
     "output_type": "execute_result"
    }
   ],
   "source": [
    "qa_data.head()"
   ]
  },
  {
   "cell_type": "code",
   "execution_count": 52,
   "id": "9e6b8713-dd53-4fec-98fa-c9dc269250b4",
   "metadata": {},
   "outputs": [
    {
     "name": "stdout",
     "output_type": "stream",
     "text": [
      "{'question': ' 부추 콩가루 찜의 조리 방법은 무엇인가요?', 'ground_truth': '부추 콩가루 찜의 조리 방법은 다음과 같습니다:\\n\\n1. 부추는 깨끗이 씻어 물기를 제거하고, 5cm 길이로 썰고 부추에 날콩가루를 넣고 고루 섞이도록 버무린다.\\n2. 찜기에 면보를 깔고 부추를 넣은 후 김이 오르게 쪄서 파랗게 익힌다.\\n3. 저염간장에 다진 대파, 다진 마늘, 고춧가루, 요리당 , 참기름, 참깨를 섞어 양념장을 만들고 찐 부추는 그릇에 담아낸다.', 'answer': \"{'question': ' 부추 콩가루 찜의 조리 방법은 무엇인가요?', 'chat_history': [], 'answer': '부추 콩가루 찜의 조리 방법은 다음과 같습니다:\\\\n\\\\n1. 부추는 깨끗이 씻어 물기를 제거하고, 5cm 길이로 썰고 부추에 날콩가루를 넣고 고루 섞이도록 버무립니다.\\\\n2. 찜기에 면보를 깔고 부추를 넣은 후 김이 오르게 쪄서 파랗게 익힙니다.\\\\n3. 저염간장에 다진 대파, 다진 마늘, 고춧가루, 요리당, 참기름, 참깨를 섞어 양념장을 만들고 찐 부추는 그릇에 담아냅니다.', 'source_documents': [Document(page_content='부추 콩가루 찜\\\\n기본 정보\\\\n일련번호: 29\\\\n조리방법: 찌기\\\\n요리종류: 반찬\\\\n영양 정보\\\\n중량(1인분): g\\\\n열량: 215 kcal\\\\n탄수화물: 20g\\\\n단백질: 14g\\\\n지방: 9g\\\\n나트륨: 240mg\\\\n재료 정보\\\\n[1인분]조선부추 50g, 날콩가루 7g(1⅓작은술)\\\\n·양념장 : 저염간장 3g(2/3작은술), 다진 대파 5g(1작은술), 다진 마늘 2g(1/2쪽), 고춧가루 2g(1/3작은술), 요리당 2g(1/3작은술), 참기름 2g(1/3작은술), 참깨 약간\\\\n조리 방법\\\\n단계 1: 1. 부추는 깨끗이 씻어 물기를 제거하고, 5cm 길이로 썰고 부추에 날콩가루를 넣고 고루 섞이도록 버무린다.\\\\n이미지: http://www.foodsafetykorea.go.kr/uploadimg/20230206/20230206054820_1675673300714.jpg\\\\n단계 2: 2. 찜기에 면보를 깔고 부추를 넣은 후 김이 오르게 쪄서 파랗게 익힌다.'), Document(page_content='단계 2: 2. 찜기에 면보를 깔고 부추를 넣은 후 김이 오르게 쪄서 파랗게 익힌다.\\\\n이미지: http://www.foodsafetykorea.go.kr/uploadimg/20230206/20230206054834_1675673314720.jpg\\\\n단계 3: 3. 저염간장에 다진 대파, 다진 마늘, 고춧가루, 요리당 , 참기름, 참깨를 섞어 양념장을 만들고 찐 부추는 그릇에 담아낸다.\\\\n이미지: http://www.foodsafetykorea.go.kr/uploadimg/20230206/20230206054908_1675673348152.jpg\\\\n기타 정보\\\\n해시태그: 날콩가루\\\\n변경일자: None'), Document(page_content='부추를 깔고 그 위에 구워진 삼겹을\\\\n올리고 소스를 얹어 완성한다.\\\\n이미지: http://www.foodsafetykorea.go.kr/uploadimg/cook/20_00507_6.png\\\\n기타 정보\\\\n해시태그: 함초\\\\n변경일자: None'), Document(page_content='통후추를 걸러내고, 물녹말을 풀어 한\\\\n소큼 더 끓인 후, 찜통에서 쪄 나온 부추와\\\\n삼겹살을 썰어 접시에 담고, 그 위에\\\\n소스와 홍고추를 올려 완성한다.\\\\n이미지: http://www.foodsafetykorea.go.kr/uploadimg/cook/20_00544_6.png\\\\n기타 정보\\\\n해시태그: 삼겹살\\\\n변경일자: None'), Document(page_content='삼겹살을 올려 약 50분 정도 찜을 하다가\\\\n부추를 올려 1분 정도 더 찜을 한다.\\\\n이미지: http://www.foodsafetykorea.go.kr/uploadimg/cook/20_00544_2.png\\\\n단계 3: 3. 부추는 약 6cm 길이로 썰어 준비한다.\\\\n이미지: http://www.foodsafetykorea.go.kr/uploadimg/cook/20_00544_3.png\\\\n단계 4: 4. 홍고추는 반으로 갈라 씨를 제거하고,\\\\n채를 썰어 놓는다.\\\\n이미지: http://www.foodsafetykorea.go.kr/uploadimg/cook/20_00544_4.png\\\\n단계 5: 5. 냄비에 간장과 물, 설탕, 올리고당,\\\\n통후추, 생강을 넣고 은근히 끓인다.\\\\n이미지: http://www.foodsafetykorea.go.kr/uploadimg/cook/20_00544_5.png\\\\n단계 6: 6. 소스가 은근히 끓고 있을 때 채로 생강과\\\\n통후추를 걸러내고, 물녹말을 풀어 한')]}\", 'contexts': []}\n"
     ]
    }
   ],
   "source": [
    "# answer 열에 있는 값을 문자열로 변환\n",
    "def extract_text_from_document(value):\n",
    "    if isinstance(value, Document):\n",
    "        return value.page_content\n",
    "    elif isinstance(value, str):\n",
    "        return value\n",
    "    else:\n",
    "        return str(value)  # 다른 유형은 문자열로 변환\n",
    "\n",
    "# apply 함수를 사용하여 answer 열의 모든 값을 문자열로 변환\n",
    "qa_data['answer'] = qa_data['answer'].apply(extract_text_from_document)\n",
    "\n",
    "# Pandas DataFrame을 Dataset으로 변환\n",
    "from datasets import Dataset\n",
    "\n",
    "dataset = Dataset.from_pandas(qa_data)\n",
    "\n",
    "# 결과 확인\n",
    "print(dataset[1])\n"
   ]
  },
  {
   "cell_type": "code",
   "execution_count": 54,
   "id": "99e8d440-e3fe-4b4b-ab58-cc092db941f1",
   "metadata": {},
   "outputs": [],
   "source": [
    "from ragas.metrics import (\n",
    "    faithfulness,\n",
    "    answer_relevancy,\n",
    "    context_recall,\n",
    "    context_precision,\n",
    ")"
   ]
  },
  {
   "cell_type": "code",
   "execution_count": null,
   "id": "f180fe76-fbfb-4585-8ce4-fb484ed4c509",
   "metadata": {},
   "outputs": [
    {
     "data": {
      "application/vnd.jupyter.widget-view+json": {
       "model_id": "aa40294cb48c415e873448ad12acbd1e",
       "version_major": 2,
       "version_minor": 0
      },
      "text/plain": [
       "Evaluating:   0%|          | 0/392 [00:00<?, ?it/s]"
      ]
     },
     "metadata": {},
     "output_type": "display_data"
    },
    {
     "name": "stderr",
     "output_type": "stream",
     "text": [
      "Exception raised in Job[82]: TimeoutError()\n",
      "Exception raised in Job[228]: TimeoutError()\n",
      "Exception raised in Job[328]: TimeoutError()\n",
      "Exception raised in Job[346]: TimeoutError()\n",
      "Exception raised in Job[230]: TimeoutError()\n",
      "Exception raised in Job[292]: TimeoutError()\n",
      "Exception raised in Job[62]: TimeoutError()\n",
      "Exception raised in Job[224]: TimeoutError()\n",
      "Exception raised in Job[320]: TimeoutError()\n",
      "Exception raised in Job[286]: TimeoutError()\n",
      "Exception raised in Job[229]: TimeoutError()\n",
      "Exception raised in Job[174]: TimeoutError()\n",
      "Exception raised in Job[65]: TimeoutError()\n",
      "Exception raised in Job[225]: TimeoutError()\n",
      "Exception raised in Job[314]: TimeoutError()\n",
      "Exception raised in Job[289]: TimeoutError()\n"
     ]
    }
   ],
   "source": [
    "from ragas import evaluate\n",
    "from ragas.metrics import faithfulness, answer_relevancy, context_recall, context_precision\n",
    "from langchain.llms.ollama import Ollama\n",
    "from ragas import evaluate\n",
    "from langchain_community.chat_models import ChatOllama\n",
    "from langchain_community.embeddings.ollama import OllamaEmbeddings\n",
    "\n",
    "langchain_llm =  ChatOllama(model=\"gemma2\")\n",
    "langchain_embeddings = OllamaEmbeddings(model=\"gemma2\")\n",
    "\n",
    "result = evaluate(\n",
    "    dataset,\n",
    "    metrics = [\n",
    "        faithfulness,\n",
    "        answer_relevancy,\n",
    "        context_recall,\n",
    "        context_precision,\n",
    "    ],\n",
    "    llm=langchain_llm, \n",
    "    embeddings=langchain_embeddings,\n",
    "    raise_exceptions=False,\n",
    ")\n",
    "\n",
    "result"
   ]
  },
  {
   "cell_type": "code",
   "execution_count": null,
   "id": "3d1813ec-f1d7-4a34-b64b-12a2bde6bf3b",
   "metadata": {},
   "outputs": [],
   "source": []
  },
  {
   "cell_type": "code",
   "execution_count": null,
   "id": "a8232d45-17a8-4b46-9084-960a577dcf3f",
   "metadata": {},
   "outputs": [],
   "source": []
  }
 ],
 "metadata": {
  "kernelspec": {
   "display_name": "dl",
   "language": "python",
   "name": "dl"
  },
  "language_info": {
   "codemirror_mode": {
    "name": "ipython",
    "version": 3
   },
   "file_extension": ".py",
   "mimetype": "text/x-python",
   "name": "python",
   "nbconvert_exporter": "python",
   "pygments_lexer": "ipython3",
   "version": "3.12.3"
  }
 },
 "nbformat": 4,
 "nbformat_minor": 5
}
